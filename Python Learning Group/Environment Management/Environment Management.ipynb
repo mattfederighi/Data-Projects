{
 "cells": [
  {
   "cell_type": "markdown",
   "id": "optimum-skating",
   "metadata": {},
   "source": [
    "# Managing Conda Environments with Miniconda\n",
    "\n",
    "Resources <br>\n",
    "[Conda Managing Environments](https://docs.conda.io/projects/conda/en/latest/user-guide/tasks/manage-environments.html#removing-an-environment)<br>\n",
    "[Conda General Commands](https://docs.conda.io/projects/conda/en/latest/commands.html#conda-general-commands) <br>\n",
    "[Conda Cheatsheet](https://docs.conda.io/projects/conda/en/latest/user-guide/cheatsheet.html)<br>\n",
    "[Miniconda & conda-forge](https://medium.com/dunder-data/anaconda-is-bloated-set-up-a-lean-robust-data-science-environment-with-miniconda-and-conda-forge-b48e1ac11646)<br>\n",
    "[Using Pip in a Conda Environment](https://www.anaconda.com/blog/using-pip-in-a-conda-environment)"
   ]
  },
  {
   "cell_type": "markdown",
   "id": "tribal-vinyl",
   "metadata": {},
   "source": [
    "# Conda & Pip"
   ]
  },
  {
   "cell_type": "markdown",
   "id": "female-queens",
   "metadata": {},
   "source": [
    "Issues may arise when using pip and conda together. Most of these issues stem from that fact that conda, like other package managers, has limited abilities to control packages it did not install. Running conda after pip has the potential to overwrite and potentially break packages installed via pip. Similarly, pip may upgrade or remove a package which a conda-installed package requires.\n",
    "\n",
    "When combining conda and pip, it is best to use an isolated conda environment. Only after conda has been used to install as many packages as possible should pip be used to install any remaining software. If modifications are needed to the environment, it is best to create a new environment rather than running conda after pip. When appropriate, conda and pip requirements should be stored in text files.\n",
    "\n",
    "### Best Practices\n",
    "<li> Use pip after conda\n",
    "<li> Use conda environments for isolation \n",
    "<li> Recreate the environment if changes are needed    \n",
    "<li> Store conda and pip requirements in text files   "
   ]
  },
  {
   "cell_type": "markdown",
   "id": "residential-plant",
   "metadata": {},
   "source": [
    "# Environments"
   ]
  },
  {
   "cell_type": "markdown",
   "id": "affecting-delhi",
   "metadata": {},
   "source": [
    "### View a list of environments\n",
    "``` conda env list ```\n",
    "### Activate an environment\n",
    "``` conda activate myenv ```\n",
    "### Deacticate an environment\n",
    "``` conda deactivate myenv ```\n",
    "### Create an empty environment\n",
    "``` conda create --name myenv ```\n",
    "### Clone an environment\n",
    "``` conda create --name myclone --clone myenv ```\n",
    "### Create an environment from environment.yml\n",
    "``` conda env create -f environment.yml ```\n",
    "### Updating an environment from an environment.yml\n",
    "``` conda env update --prefix ./env --file environment.yml  --prune ```<br>\n",
    "The --prune option causes conda to remove any dependencies that are no longer required from the environment.\n",
    "### Export an environment.yml\n",
    "``` conda env export > environment.yml ```\n",
    "### Restore an environment\n",
    "See a list of all revisions <br>\n",
    "``` conda list --revisions ```<br>\n",
    "\n",
    "Specify the revision number<br>\n",
    "``` conda install --rev REVNUM  ```\n",
    "### Delete an environment\n",
    "``` conda remove --name myenv --all ```"
   ]
  },
  {
   "cell_type": "markdown",
   "id": "dress-paraguay",
   "metadata": {},
   "source": [
    "# Channels"
   ]
  },
  {
   "cell_type": "markdown",
   "id": "accessible-processor",
   "metadata": {},
   "source": [
    "### Showing conda channels\n",
    "``` conda config --show channels ```\n",
    "### Add a new channel\n",
    "The --env ensures we only add the channel to our current environment <br>\n",
    "Also note that adding a channel makes the channel become the first in the list <br><br>\n",
    "``` conda config --env --add channels conda-forge  ``` <br><br>\n",
    "Currently, if it cannot find a package in conda-forge, it will then look in defaults for it. But, if the same package exists in both, then it will choose to install it from the channel with the newest version. For instance, if conda-forge has pandas version 0.23 and the defaults has version 0.24 then conda will install pandas 0.24 from the defaults channel.\n",
    "<br><br>\n",
    "We can fix this by setting a strict channel priority\n",
    "\n",
    "### Setting a channel priority\n",
    "Set strict priority<br>\n",
    "``` conda config --env --set channel_priority strict ```<br>\n",
    "View the results <br>\n",
    "``` conda config --show channel_priority ```\n",
    "\n",
    "### Append a new channel\n",
    "You can also append a package instead of add, which adds the channel to the end of the list and gives it the lowest priority\n",
    "``` conda config --append channels conda-forge ``` \n",
    "\n",
    "### Remove a channel\n",
    "``` conda config --remove channels conda-forge ```"
   ]
  },
  {
   "cell_type": "markdown",
   "id": "answering-ethiopia",
   "metadata": {},
   "source": [
    "# Packages"
   ]
  },
  {
   "cell_type": "markdown",
   "id": "difficult-spelling",
   "metadata": {},
   "source": [
    "Note that for all of this to work you must have the environment activated. Otherwise you need to specify the environment with the -n variable <br>\n",
    "### View all packages\n",
    "``` conda list ```\n",
    "\n",
    "### Install the latest version of a package\n",
    "``` conda install python ```\n",
    "\n",
    "### Install a specific version of a package\n",
    "``` conda install python=3.6 ```\n",
    "\n",
    "### Installing multiple packages at once\n",
    "``` conda install python pandas ```\n",
    "\n",
    "### Install a package with pip\n",
    "``` pip install python ```\n",
    "\n",
    "### Updating a package\n",
    "``` conda update python ```\n",
    "\n",
    "### Removing packages\n",
    "``` conda remove pandas ```"
   ]
  }
 ],
 "metadata": {
  "kernelspec": {
   "display_name": "Python 3",
   "language": "python",
   "name": "python3"
  },
  "language_info": {
   "codemirror_mode": {
    "name": "ipython",
    "version": 3
   },
   "file_extension": ".py",
   "mimetype": "text/x-python",
   "name": "python",
   "nbconvert_exporter": "python",
   "pygments_lexer": "ipython3",
   "version": "3.7.9"
  }
 },
 "nbformat": 4,
 "nbformat_minor": 5
}
