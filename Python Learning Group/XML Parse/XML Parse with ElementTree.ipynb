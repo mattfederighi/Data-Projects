{
 "cells": [
  {
   "cell_type": "markdown",
   "metadata": {},
   "source": [
    "# ElementTree Python Package\n",
    "\n",
    "This is a short tutorial for using xml.etree.ElementTree (ET in short). The goal is to demonstrate some of the building blocks and basic concepts of the module.\n",
    "\n",
    "XML is an inherently hierarchical data format, and the most natural way to represent it is with a tree. ET has two classes for this purpose - ElementTree represents the whole XML document as a tree, and Element represents a single node in this tree. Interactions with the whole document (reading and writing to/from files) are usually done on the ElementTree level. Interactions with a single XML element and its sub-elements are done on the Element level.\n",
    "\n",
    "<span style=\"color:red\">*WARNING*</span> The xml.etree.ElementTree module is not secure against maliciously constructed data. If you need to parse untrusted or unauthenticated data see XML vulnerabilities."
   ]
  },
  {
   "cell_type": "markdown",
   "metadata": {},
   "source": [
    "## ElementTree vs lxml vs BeautifulSoup\n",
    "\n",
    "Ultimately it's a matter of preference. However, BeautifulSoup is by far the slowest and least robust option. ElementTree is specifically meant for xml, lxml is meant for XML and html, BrautifulSoup is meant for html, but it allows you to parse XML as well. If you have massive XML documents, use ElementTree or lxml. If speed is not a factor, use whatever you're familiar with.\n",
    "\n",
    "You can go into a [StackOverflow rabbit hole](https://www.google.com/search?q=best+xml+parser+python+site:stackoverflow.com&rlz=1C1GCEU_enUS846US846&sxsrf=ALeKk03CZzALP592i7maG6QdTcC-CJHzrg:1611856624975&sa=X&ved=2ahUKEwjntr3smb_uAhUwHjQIHUmiAj8QrQIoBHoECAIQBQ&biw=1920&bih=969) about which to use if you dare. "
   ]
  },
  {
   "cell_type": "code",
   "execution_count": 1,
   "metadata": {},
   "outputs": [],
   "source": [
    "import pandas as pd\n",
    "import xml.etree.ElementTree as ET"
   ]
  },
  {
   "cell_type": "code",
   "execution_count": 2,
   "metadata": {},
   "outputs": [
    {
     "name": "stdout",
     "output_type": "stream",
     "text": [
      "<xml.etree.ElementTree.ElementTree object at 0x00000155E1E9A148> \n",
      "\n",
      "<Element 'data' at 0x00000155E20A0A98> \n",
      "\n"
     ]
    }
   ],
   "source": [
    "# Import data by reading from file \n",
    "tree = ET.parse('country_data.xml')\n",
    "print(tree, '\\n')\n",
    "\n",
    "# Convert tree to get the root\n",
    "root = tree.getroot()\n",
    "print(root, '\\n')"
   ]
  },
  {
   "cell_type": "markdown",
   "metadata": {},
   "source": [
    "As an Element, root has a tag and a dictionary of attributes:"
   ]
  },
  {
   "cell_type": "code",
   "execution_count": 3,
   "metadata": {},
   "outputs": [
    {
     "data": {
      "text/plain": [
       "'data'"
      ]
     },
     "execution_count": 3,
     "metadata": {},
     "output_type": "execute_result"
    }
   ],
   "source": [
    "root.tag"
   ]
  },
  {
   "cell_type": "code",
   "execution_count": 4,
   "metadata": {},
   "outputs": [
    {
     "data": {
      "text/plain": [
       "{}"
      ]
     },
     "execution_count": 4,
     "metadata": {},
     "output_type": "execute_result"
    }
   ],
   "source": [
    "root.attrib"
   ]
  },
  {
   "cell_type": "markdown",
   "metadata": {},
   "source": [
    "It also has children nodes over which we can iterate"
   ]
  },
  {
   "cell_type": "code",
   "execution_count": 5,
   "metadata": {},
   "outputs": [
    {
     "name": "stdout",
     "output_type": "stream",
     "text": [
      "country {'name': 'Liechtenstein'}\n",
      "country {'name': 'Singapore'}\n",
      "country {'name': 'Panama'}\n"
     ]
    }
   ],
   "source": [
    "for child in root:\n",
    "    print(child.tag, child.attrib)"
   ]
  },
  {
   "cell_type": "markdown",
   "metadata": {},
   "source": [
    "Children are nested, and we can access specific child nodes by index:"
   ]
  },
  {
   "cell_type": "code",
   "execution_count": 6,
   "metadata": {},
   "outputs": [
    {
     "data": {
      "text/plain": [
       "'2008'"
      ]
     },
     "execution_count": 6,
     "metadata": {},
     "output_type": "execute_result"
    }
   ],
   "source": [
    "root[0][1].text"
   ]
  },
  {
   "cell_type": "markdown",
   "metadata": {},
   "source": [
    "# Diving Deeper into the Elements\n",
    "\n",
    "Element.iter() iterates over this element and all elements below it<br>\n",
    "Element.findall() finds only elements with a tag which are direct children of the current element<br>\n",
    "Element.find() finds the first child with a particular tag<br>\n",
    "Element.text accesses the element’s text content<br>\n",
    "Element.get() accesses the element’s attributes"
   ]
  },
  {
   "cell_type": "code",
   "execution_count": 7,
   "metadata": {},
   "outputs": [
    {
     "name": "stdout",
     "output_type": "stream",
     "text": [
      "[{}, {}, {}] \n",
      "\n",
      "[[], [], []] \n",
      "\n",
      "[[], [], []] \n",
      "\n"
     ]
    }
   ],
   "source": [
    "# Get the attribute\n",
    "print([neighbor.attrib for neighbor in root.iter('neighbor')], '\\n') \n",
    "\n",
    "# Get the keys\n",
    "print([neighbor.keys() for neighbor in root.iter('neighbor')], '\\n') \n",
    "\n",
    "# Get key, value pairs\n",
    "print([neighbor.items() for neighbor in root.iter('neighbor')], '\\n') "
   ]
  },
  {
   "cell_type": "code",
   "execution_count": 8,
   "metadata": {},
   "outputs": [
    {
     "name": "stdout",
     "output_type": "stream",
     "text": [
      "[<Element 'rank' at 0x00000155E20A0B38>, <Element 'year' at 0x00000155E20A0B88>, <Element 'gdppc' at 0x00000155E20A0BD8>, <Element 'neighbor' at 0x00000155E20A0C28>, <Element 'direction' at 0x00000155E20A0C78>] \n",
      "\n",
      "[<Element 'country' at 0x00000155E20A0AE8>, <Element 'country' at 0x00000155E20A0CC8>, <Element 'country' at 0x00000155E20A0EA8>] \n",
      "\n",
      "['\\n', ' ', ' ', ' ', ' ', ' ', ' ', ' ', ' ']\n"
     ]
    }
   ],
   "source": [
    "# Find all sub-elemtns in the country key\n",
    "print([country for country in root.find('country')], '\\n')\n",
    "\n",
    "# Find all country keys\n",
    "print([country for country in root.findall('country')], '\\n')\n",
    "\n",
    "# Find text after country key\n",
    "print([country for country in root.findtext('country')])"
   ]
  },
  {
   "cell_type": "code",
   "execution_count": 9,
   "metadata": {},
   "outputs": [
    {
     "ename": "TypeError",
     "evalue": "'NoneType' object is not iterable",
     "output_type": "error",
     "traceback": [
      "\u001b[1;31m---------------------------------------------------------------------------\u001b[0m",
      "\u001b[1;31mTypeError\u001b[0m                                 Traceback (most recent call last)",
      "\u001b[1;32m<ipython-input-9-daff09139798>\u001b[0m in \u001b[0;36m<module>\u001b[1;34m\u001b[0m\n\u001b[0;32m      1\u001b[0m \u001b[1;31m# Note that this fails because rank is a subelement\u001b[0m\u001b[1;33m\u001b[0m\u001b[1;33m\u001b[0m\u001b[1;33m\u001b[0m\u001b[0m\n\u001b[1;32m----> 2\u001b[1;33m \u001b[0mprint\u001b[0m\u001b[1;33m(\u001b[0m\u001b[1;33m[\u001b[0m\u001b[0mcountry\u001b[0m \u001b[1;32mfor\u001b[0m \u001b[0mcountry\u001b[0m \u001b[1;32min\u001b[0m \u001b[0mroot\u001b[0m\u001b[1;33m.\u001b[0m\u001b[0mfindtext\u001b[0m\u001b[1;33m(\u001b[0m\u001b[1;34m'rank'\u001b[0m\u001b[1;33m)\u001b[0m\u001b[1;33m]\u001b[0m\u001b[1;33m)\u001b[0m\u001b[1;33m\u001b[0m\u001b[1;33m\u001b[0m\u001b[0m\n\u001b[0m",
      "\u001b[1;31mTypeError\u001b[0m: 'NoneType' object is not iterable"
     ]
    }
   ],
   "source": [
    "# Note that this fails because rank is a subelement \n",
    "print([country for country in root.findtext('rank')])"
   ]
  },
  {
   "cell_type": "code",
   "execution_count": 10,
   "metadata": {},
   "outputs": [
    {
     "name": "stdout",
     "output_type": "stream",
     "text": [
      "['1']\n"
     ]
    }
   ],
   "source": [
    "# To make it work, you need to search for all the subelements \n",
    "# .// Selects all subelements, on all levels beneath the current element\n",
    "print([country for country in root.findtext('.//rank')])"
   ]
  },
  {
   "cell_type": "code",
   "execution_count": 11,
   "metadata": {},
   "outputs": [
    {
     "name": "stdout",
     "output_type": "stream",
     "text": [
      "Liechtenstein 1\n",
      "Singapore 4\n",
      "Panama 68\n"
     ]
    }
   ],
   "source": [
    "# Find all the country keys in the XML file\n",
    "for country in root.findall('country'):\n",
    "    \n",
    "    # For each country find the text from the rank key\n",
    "    rank = country.find('rank').text\n",
    "    \n",
    "    # Get the name attrib of the country\n",
    "    name = country.get('name')\n",
    "    print(name, rank)"
   ]
  },
  {
   "cell_type": "markdown",
   "metadata": {},
   "source": [
    "# Create a Dataframe from an XML"
   ]
  },
  {
   "cell_type": "code",
   "execution_count": 12,
   "metadata": {},
   "outputs": [
    {
     "name": "stdout",
     "output_type": "stream",
     "text": [
      "<Element 'country' at 0x00000155E20A0AE8>\n",
      "<Element 'country' at 0x00000155E20A0CC8>\n",
      "<Element 'country' at 0x00000155E20A0EA8>\n"
     ]
    }
   ],
   "source": [
    "# Loop through nodes in the root to see all nodes > ie. this is what you're looping through\n",
    "for node in root:\n",
    "    print(node)"
   ]
  },
  {
   "cell_type": "code",
   "execution_count": 13,
   "metadata": {},
   "outputs": [
    {
     "ename": "IndexError",
     "evalue": "list index out of range",
     "output_type": "error",
     "traceback": [
      "\u001b[1;31m---------------------------------------------------------------------------\u001b[0m",
      "\u001b[1;31mIndexError\u001b[0m                                Traceback (most recent call last)",
      "\u001b[1;32m<ipython-input-13-7bd124cf0482>\u001b[0m in \u001b[0;36m<module>\u001b[1;34m\u001b[0m\n\u001b[0;32m     15\u001b[0m \u001b[1;33m\u001b[0m\u001b[0m\n\u001b[0;32m     16\u001b[0m     \u001b[1;31m# Get the neighbor name and direction\u001b[0m\u001b[1;33m\u001b[0m\u001b[1;33m\u001b[0m\u001b[1;33m\u001b[0m\u001b[0m\n\u001b[1;32m---> 17\u001b[1;33m     \u001b[0mneighbor_name\u001b[0m \u001b[1;33m=\u001b[0m \u001b[0mnode\u001b[0m\u001b[1;33m.\u001b[0m\u001b[0mfind\u001b[0m\u001b[1;33m(\u001b[0m\u001b[1;34m\"neighbor\"\u001b[0m\u001b[1;33m)\u001b[0m\u001b[1;33m.\u001b[0m\u001b[0mitems\u001b[0m\u001b[1;33m(\u001b[0m\u001b[1;33m)\u001b[0m\u001b[1;33m[\u001b[0m\u001b[1;36m0\u001b[0m\u001b[1;33m]\u001b[0m\u001b[1;33m[\u001b[0m\u001b[1;36m1\u001b[0m\u001b[1;33m]\u001b[0m\u001b[1;33m\u001b[0m\u001b[1;33m\u001b[0m\u001b[0m\n\u001b[0m\u001b[0;32m     18\u001b[0m     \u001b[0mneighbor_dir\u001b[0m \u001b[1;33m=\u001b[0m \u001b[0mnode\u001b[0m\u001b[1;33m.\u001b[0m\u001b[0mfind\u001b[0m\u001b[1;33m(\u001b[0m\u001b[1;34m\"neighbor\"\u001b[0m\u001b[1;33m)\u001b[0m\u001b[1;33m.\u001b[0m\u001b[0mitems\u001b[0m\u001b[1;33m(\u001b[0m\u001b[1;33m)\u001b[0m\u001b[1;33m[\u001b[0m\u001b[1;36m1\u001b[0m\u001b[1;33m]\u001b[0m\u001b[1;33m[\u001b[0m\u001b[1;36m1\u001b[0m\u001b[1;33m]\u001b[0m\u001b[1;33m\u001b[0m\u001b[1;33m\u001b[0m\u001b[0m\n\u001b[0;32m     19\u001b[0m \u001b[1;33m\u001b[0m\u001b[0m\n",
      "\u001b[1;31mIndexError\u001b[0m: list index out of range"
     ]
    }
   ],
   "source": [
    "# Create an empty rows list & neighbors list\n",
    "country_rows = []\n",
    "country_neighbors = []\n",
    "\n",
    "# Loop through each node in the root\n",
    "for node in root: \n",
    "    \n",
    "    # Get the country name\n",
    "    country = node.get('name')\n",
    "    \n",
    "    # Get the subelements\n",
    "    rank = node.find(\"rank\").text\n",
    "    year = node.find(\"year\").text\n",
    "    gdppc = node.find(\"gdppc\").text\n",
    "    \n",
    "    # Get the neighbor name and direction\n",
    "    neighbor_name = node.find(\"neighbor\").items()[0][1]\n",
    "    neighbor_dir = node.find(\"neighbor\").items()[1][1]\n",
    "    \n",
    "    # Create a list of dictionaries that we can convert to a dataframe\n",
    "    country_rows.append({'Country'           : country,\n",
    "                         'Year'              : year, \n",
    "                         'Rank'              : rank, \n",
    "                         'GDPPC'             : gdppc,\n",
    "                         'Neighbor Name'     : neighbor_name, \n",
    "                         'Neighbor Direction': neighbor_dir\n",
    "                        })\n",
    "\n",
    "country_rows\n",
    "\n",
    "# # Create the dataframe\n",
    "# countries_df = pd.DataFrame(country_rows)\n",
    "\n",
    "# countries_df"
   ]
  },
  {
   "cell_type": "markdown",
   "metadata": {},
   "source": [
    "Note that this is specific to the XML file we have. In order to make this more reusable, we would need to figure out how to generalize this so it works for any XML file. This will be our homework this week, create a function that can can be reused for multiple .xml files with different structures"
   ]
  },
  {
   "cell_type": "markdown",
   "metadata": {},
   "source": [
    "# Homework"
   ]
  },
  {
   "cell_type": "code",
   "execution_count": 14,
   "metadata": {},
   "outputs": [],
   "source": [
    "def xml_to_df(filename):\n",
    "    \n",
    "    # Import data by reading from file \n",
    "    tree = ET.parse(filename)\n",
    "\n",
    "    # Convert tree to get the root\n",
    "    root = tree.getroot()\n",
    "\n",
    "    # Initialize an empty list for appending\n",
    "    rows = []\n",
    "\n",
    "    # Loop through each node in the root\n",
    "    for node in root:\n",
    "\n",
    "        # Get the parent node dictionary element\n",
    "        parent = node.attrib\n",
    "\n",
    "        # For each child node in the parent node\n",
    "        for child in node:\n",
    "\n",
    "            # Create a dictionary with the tag and text elements\n",
    "            parent.update({child.tag : child.text})\n",
    "\n",
    "        # Append to the rows list\n",
    "        rows.append(parent)\n",
    "    \n",
    "    # Create the dataframe\n",
    "    df = pd.DataFrame(rows)\n",
    "    \n",
    "    return df"
   ]
  },
  {
   "cell_type": "code",
   "execution_count": 4,
   "metadata": {},
   "outputs": [
    {
     "name": "stdout",
     "output_type": "stream",
     "text": [
      "Country Dataframe \n",
      "             name rank  year   gdppc    neighbor direction\n",
      "0  Liechtenstein    1  2008  141100     Austria         E\n",
      "1      Singapore    4  2011   59900    Malaysia         N\n",
      "2         Panama   68  2011   13600  Costa Rica         W \n",
      " \n",
      "\n",
      "Movie Dataframe \n",
      "           title                    type format  year rating stars                description episodes\n",
      "0  Enemy Behind           War, Thriller    DVD  2003     PG    10  Talk about a US-Japan war      NaN\n",
      "1  Transformers  Anime, Science Fiction    DVD  1989      R     8      A schientific fiction      NaN\n",
      "2        Trigun           Anime, Action    DVD   NaN     PG    10         Vash the Stampede!        4\n",
      "3        Ishtar                  Comedy    VHS   NaN     PG     2           Viewable boredom      NaN \n",
      " \n",
      "\n",
      "Student Dataframe \n",
      "            name age grade quiz midterm final\n",
      "0  Steven Smith  17    12   98      78    82\n",
      "1   James Brown  16    12   76      81    78\n",
      "2    Mary Olsen  17    12   91      89    96 \n",
      " \n",
      "\n"
     ]
    }
   ],
   "source": [
    "import pandas as pd\n",
    "pd.set_option('display.width', 150)\n",
    "\n",
    "country_df = xml_to_df('country_data.xml')\n",
    "print(f'Country Dataframe \\n {country_df} \\n \\n')\n",
    "\n",
    "movie_df = xml_to_df('movie_data.xml')\n",
    "print(f'Movie Dataframe \\n {movie_df} \\n \\n')\n",
    "\n",
    "student_df = xml_to_df('student_data.xml')\n",
    "print(f'Student Dataframe \\n {student_df} \\n \\n')"
   ]
  },
  {
   "cell_type": "code",
   "execution_count": 15,
   "metadata": {},
   "outputs": [
    {
     "name": "stdout",
     "output_type": "stream",
     "text": [
      "[{'title': 'Enemy Behind', 'type': 'War, Thriller', 'format': 'DVD', 'year': '2003', 'rating': 'PG', 'stars': '10', 'description': 'Talk about a US-Japan war'}, {'title': 'Transformers', 'type': 'Anime, Science Fiction', 'format': 'DVD', 'year': '1989', 'rating': 'R', 'stars': '8', 'description': 'A schientific fiction'}, {'title': 'Trigun', 'type': 'Anime, Action', 'format': 'DVD', 'episodes': '4', 'rating': 'PG', 'stars': '10', 'description': 'Vash the Stampede!'}, {'title': 'Ishtar', 'type': 'Comedy', 'format': 'VHS', 'rating': 'PG', 'stars': '2', 'description': 'Viewable boredom'}]\n"
     ]
    }
   ],
   "source": [
    "# Import data by reading from file \n",
    "tree = ET.parse('movie_data.xml')\n",
    "\n",
    "# Convert tree to get the root\n",
    "root = tree.getroot()\n",
    "\n",
    "# Initialize an empty list for appending\n",
    "rows = []\n",
    "\n",
    "# Loop through each node in the root\n",
    "for node in root:\n",
    "\n",
    "    # Get the parent node dictionary element\n",
    "    parent = node.attrib\n",
    "\n",
    "    # For each child node in the parent node\n",
    "    for child in node:\n",
    "\n",
    "        # Create a dictionary with the tag and text elements\n",
    "        parent.update({child.tag : child.text})\n",
    "\n",
    "    # Append to the rows list\n",
    "    rows.append(parent)\n",
    "print(rows)\n",
    "# # Create the dataframe\n",
    "# df = pd.DataFrame(rows)\n",
    "\n",
    "# df"
   ]
  },
  {
   "cell_type": "code",
   "execution_count": null,
   "metadata": {},
   "outputs": [],
   "source": []
  }
 ],
 "metadata": {
  "kernelspec": {
   "display_name": "Python 3",
   "language": "python",
   "name": "python3"
  },
  "language_info": {
   "codemirror_mode": {
    "name": "ipython",
    "version": 3
   },
   "file_extension": ".py",
   "mimetype": "text/x-python",
   "name": "python",
   "nbconvert_exporter": "python",
   "pygments_lexer": "ipython3",
   "version": "3.7.9"
  }
 },
 "nbformat": 4,
 "nbformat_minor": 4
}
