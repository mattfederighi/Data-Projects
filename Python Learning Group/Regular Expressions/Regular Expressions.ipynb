{
 "cells": [
  {
   "cell_type": "markdown",
   "metadata": {},
   "source": [
    "# Introduction to Regular Expressions"
   ]
  },
  {
   "cell_type": "markdown",
   "metadata": {},
   "source": [
    "> A regular expression is a group of characters or symbols which is used to find a specific pattern in a text.\n",
    "\n",
    "Regular expressions are used to replace text within a string, validating forms, extracting a substring from a string based on a pattern match, and so much more. The term \"regular expression\" is a mouthful, so you will usually find the term abbreviated to \"regex\" or \"regexp\".\n",
    "\n",
    "Theese are the most common reasons you will use Regular Expressions: \n",
    "- Looking for substrings within input\n",
    "- Cleaning of input\n",
    "- Restructuring of input\n",
    "- Validating of input\n",
    "\n",
    "***When learning regular expressions, it may be helpful to also learn restraint. You might be tempted, like me, to see regular expressions as a solution to far too many problems.***\n",
    "\n",
    "Note that this is a basic introduction to Regular Expressions. There are more in-depth guides out there (see below) that will allow you to truly master Regular Expressions. For this session we are going to focus on the application, learning how to apply Regular Expressions to Pandas dataframes.\n",
    "\n",
    "### Resources\n",
    "[Mastering Regular Expressions](https://www.thriftbooks.com/w/mastering-regular-expressions/259441/item/2535867/?mkwid=%7cdc&pcrid=448964098780&pkw=&pmt=&slid=&plc=&pgrid=105775167313&ptaid=pla-924743127976&gclid=CjwKCAiAxp-ABhALEiwAXm6IyV4UD5p8UN1K8KqzEW5ZgAhqxVMoS3Zvo9ppibcqmNyFLJk-MDmG6hoClfEQAvD_BwE#idiq=2535867&edition=2310692) - Hands down, the best resource for learning Regular Expressions<br>\n",
    "[Regex101.com](https://regex101.com/) - Best online resource for testing your regular expressions<br>\n",
    "[Regular Expressions Cheat Sheet](https://www.regular-expressions.info/) - Quick Reference Guide<br>\n",
    "[Regular-Expressions.info](https://www.regular-expressions.info/) - Best online resource for learning regular expressions<br>\n",
    "[Regular Expression Python Documenation](https://docs.python.org/2/howto/regex.html) - Offical Documentation<br>\n",
    "[Learn Regular Expressions the Easy Way](https://github.com/ziishaned/learn-regex/blob/master/README.md#learn-regex) - Great resource for free on Github"
   ]
  },
  {
   "cell_type": "markdown",
   "metadata": {},
   "source": [
    "# Basic Syntax"
   ]
  },
  {
   "cell_type": "markdown",
   "metadata": {},
   "source": [
    "## Special Characters\n",
    "\n",
    "Special characters either stand for classes of ordinary characters, or affect how the regular expressions around them are interpreted.\n",
    "\n",
    "| Character | Description |\n",
    "| :---: | --- |\n",
    "|\\. | Matches any single character except a newline |\n",
    "|\\^ | Matches a pattern at the start of a string |\n",
    "|\\$ | Matches a pattern at the end of a string |\n",
    "|\\\\ | Escapes these special chatacters \\^ \\$ \\* \\+ \\? \\[ \\] \\( \\) \\{ \\} \\| \\\\  |\n",
    "|\\| | Alternation, matches characters before or after |\n",
    "|\\? | Makes the preceding symbol optional |\n",
    "|\\+ | Matches one or more repetitions of the preceding symbol |\n",
    "|\\* | Matches 0 or more repetitions of the preceding symbol |\n",
    "|\\[] |  Matches any character that is contained between the square brackets |\n",
    "|\\[^] | Matches any character that is not contained between the square brackets |\n",
    "|\\{m,n} | Match from m repetitions to n repetitions |\n",
    "|\\() | Match any character inside the parenthesis, indicates the start of a group |"
   ]
  },
  {
   "cell_type": "markdown",
   "metadata": {},
   "source": [
    "## Special Sequences\n",
    "\n",
    "| Character | Description |\n",
    "| :---: | --- |\n",
    "| \\d | Matches any decimal digit; this is equivalent to the class [0-9] |\n",
    "| \\D | Matches any non-digit character; this is equivalent to the class [^0-9] | \n",
    "| \\s | Matches any whitespace character; this is equivalent to the class [ \\t\\n\\r\\f\\v] | \n",
    "| \\S | Matches any non-whitespace character; this is equivalent to the class [^ \\t\\n\\r\\f\\v] | \n",
    "| \\w | Matches any word; this is equivalent to the class [a-zA-Z0-9_] | \n",
    "| \\W | Matches any non-word; this is equivalent to the class [^a-zA-Z0-9_] | \n",
    "| \\A | Matches if the specified characters are at the start of the string | \n",
    "| \\Z | Matches if the specified characters are at the end of the string | \n",
    "| \\B | Matches if the specified charactersa are NOT at the beginning or end of a word | \n",
    "| \\b | Matches if the specified charactersa are at the beginning or end of a word | "
   ]
  },
  {
   "cell_type": "markdown",
   "metadata": {},
   "source": [
    "## LookArounds\n",
    "\n",
    "| Character | Description |\n",
    "| :---: | --- |\n",
    "| \\?= | Positive lookahead - the first part of the expression must be followed by the lookahead expression |\n",
    "| \\?! | Negative lookahead - get all matches from an input string that are not followed by a certain pattern | \n",
    "| \\?<= | Positive lookbehind - get all the matches that are preceded by a specific pattern | \n",
    "| \\?<! | Negative Lookbehind - get all the matches that are not preceded by a specific pattern | \n",
    "\n",
    "\n",
    "## Flags\n",
    "\n",
    "| Character | Description |\n",
    "| :---: | --- |\n",
    "| \\i | Case insensitive: Match will be case-insensitive. |\n",
    "| \\g | Global Search: Match all instances, not just the first. | \n",
    "| \\m | Multiline: Anchor meta characters work on each line | "
   ]
  },
  {
   "cell_type": "markdown",
   "metadata": {},
   "source": [
    "# Regex Functions"
   ]
  },
  {
   "cell_type": "code",
   "execution_count": 285,
   "metadata": {},
   "outputs": [
    {
     "name": "stdout",
     "output_type": "stream",
     "text": [
      "<re.Match object; span=(0, 3), match='One'> \n",
      "\n",
      "<re.Match object; span=(0, 3), match='One'> \n",
      "\n",
      "['', ' is 1, ten is 10, one hundred is 100'] \n",
      "\n",
      "['One'] \n",
      "\n",
      "<callable_iterator object at 0x0000024C0A054148> \n",
      "\n",
      "1 is 1, ten is 10, one hundred is 100 \n",
      "\n",
      "('1 is 1, ten is 10, one hundred is 100', 1)\n"
     ]
    }
   ],
   "source": [
    "import re\n",
    "\n",
    "# Matching a word\n",
    "sentence = 'One is 1, ten is 10, one hundred is 100'\n",
    "pattern = 'One'\n",
    "\n",
    "print(re.search(pattern, sentence), '\\n') # Returns a match object if found\n",
    "print(re.match(pattern, sentence), '\\n') # Only works if the match is found at the beginning of the string\n",
    "print(re.split(pattern, sentence), '\\n') # Splits the string, removes the match\n",
    "print(re.findall(pattern, sentence), '\\n') # Return all matches into a list of strings\n",
    "print(re.finditer(pattern, sentence), '\\n') # Returns an iterator, which you can loop through\n",
    "print(re.sub(pattern, '1', sentence), '\\n') # Replaces with a new string\n",
    "print(re.subn(pattern, '1', sentence)) # Returns a tuple"
   ]
  },
  {
   "cell_type": "code",
   "execution_count": 286,
   "metadata": {},
   "outputs": [
    {
     "name": "stdout",
     "output_type": "stream",
     "text": [
      "26.4 ns ± 1.86 ns per loop (mean ± std. dev. of 7 runs, 10000000 loops each)\n",
      "26.4 ns ± 1.55 ns per loop (mean ± std. dev. of 7 runs, 10000000 loops each)\n"
     ]
    }
   ],
   "source": [
    "''' Splitting Strings '''\n",
    "import timeit\n",
    "\n",
    "# Pandas\n",
    "a = sentence.split(\",\")\n",
    "%timeit a\n",
    "\n",
    "# Regex\n",
    "b = re.split(\",\", sentence)\n",
    "%timeit b"
   ]
  },
  {
   "cell_type": "code",
   "execution_count": 287,
   "metadata": {},
   "outputs": [
    {
     "name": "stdout",
     "output_type": "stream",
     "text": [
      "24.8 ns ± 2.4 ns per loop (mean ± std. dev. of 7 runs, 10000000 loops each)\n",
      "23.7 ns ± 0.643 ns per loop (mean ± std. dev. of 7 runs, 10000000 loops each)\n"
     ]
    }
   ],
   "source": [
    "''' Replacing '''\n",
    "# Pandas\n",
    "a = sentence.replace('1', 'One')\n",
    "%timeit a\n",
    "\n",
    "# Regex\n",
    "b = re.sub('1', 'One', sentence)\n",
    "%timeit b"
   ]
  },
  {
   "cell_type": "markdown",
   "metadata": {},
   "source": [
    "# String Examples"
   ]
  },
  {
   "cell_type": "code",
   "execution_count": 292,
   "metadata": {},
   "outputs": [
    {
     "name": "stdout",
     "output_type": "stream",
     "text": [
      "['O', 'n', 'e', 'i', 's', '1', 't', 'e', 'n', 'i', 's', '1', '0', 'o', 'n', 'e', 'h', 'u', 'n', 'd', 'r', 'e', 'd', 'i', 's', '1', '0', '0']\n",
      "['One', 'is', '1', 'ten', 'is', '10', 'one', 'hundred', 'is', '100']\n",
      "['One is ', ', ten is ', ', one hundred is ']\n",
      "['1', '1', '0', '1', '0', '0']\n",
      "['1', '10', '100']\n"
     ]
    }
   ],
   "source": [
    "sentence = \"One is 1, ten is 10, one hundred is 100\"\n",
    "\n",
    "''' Finding all the letters in a string '''\n",
    "print(re.findall(r'\\w', sentence))\n",
    "\n",
    "''' Finding all the words in a string, including numbers '''\n",
    "print(re.findall(r'\\w+', sentence))\n",
    "\n",
    "''' Finding all the words in a string '''\n",
    "print(re.findall(r'\\D+', sentence))\n",
    "\n",
    "''' Finding all the numbers within a string '''\n",
    "print(re.findall(r'\\d', sentence))\n",
    "\n",
    "''' Finding all the numbers within a string that are of length 1 to 3 '''\n",
    "print(re.findall(r'\\d+', sentence))"
   ]
  },
  {
   "cell_type": "code",
   "execution_count": 295,
   "metadata": {},
   "outputs": [
    {
     "name": "stdout",
     "output_type": "stream",
     "text": [
      "['matt_federighi']\n",
      "['gensler.com']\n",
      "['gensler']\n"
     ]
    }
   ],
   "source": [
    "email = 'matt_federighi@gensler.com'\n",
    "\n",
    "''' Everything before the @ symbol '''\n",
    "print(re.findall(r'.+?(?=@)', email))\n",
    "\n",
    "''' Everything after the @ symbol '''\n",
    "print(re.findall(r'@(.*)', email))\n",
    "\n",
    "''' Everything between @ and . '''\n",
    "print(re.findall(r'(?<=@)(.*)(?=\\.)', email))"
   ]
  },
  {
   "cell_type": "code",
   "execution_count": 298,
   "metadata": {},
   "outputs": [
    {
     "name": "stdout",
     "output_type": "stream",
     "text": [
      "['RegularExpressions.py']\n",
      "['C:', 'Users', 'Matt', 'Downloads', 'PythonLearningGroup', 'RegularExpressions.py']\n",
      "['C:', 'Users', 'Matt', 'Downloads', 'PythonLearningGroup', 'RegularExpressions.py']\n"
     ]
    }
   ],
   "source": [
    "file_path = r'C:\\Users\\Matt\\Downloads\\PythonLearningGroup\\RegularExpressions.py'\n",
    "\n",
    "''' Grab the File name '''\n",
    "print(re.findall(r'([^\\\\]+$)', file_path))\n",
    "\n",
    "\n",
    "\n",
    "''' Split the string on the \\\\ '''\n",
    "print(re.findall(r'([^\\\\]+)', file_path))\n",
    "\n",
    "# ''' Splitting and getting values from the file path '''\n",
    "print(file_path.split(\"\\\\\"))"
   ]
  },
  {
   "cell_type": "code",
   "execution_count": 299,
   "metadata": {},
   "outputs": [
    {
     "name": "stdout",
     "output_type": "stream",
     "text": [
      "Pandas Split - RegularExpressions.py\n",
      "24 ns ± 0.539 ns per loop (mean ± std. dev. of 7 runs, 10000000 loops each)\n",
      "Regex Split - RegularExpressions.py\n",
      "25.5 ns ± 1.59 ns per loop (mean ± std. dev. of 7 runs, 10000000 loops each)\n",
      "Pandas Findall - RegularExpressions.py\n",
      "28.3 ns ± 2.54 ns per loop (mean ± std. dev. of 7 runs, 10000000 loops each)\n"
     ]
    }
   ],
   "source": [
    "# Pandas\n",
    "a = file_path.split(\"\\\\\")[-1]\n",
    "print(f\"Pandas Split - {a}\")\n",
    "%timeit a\n",
    "\n",
    "# Regex Split\n",
    "b = re.split(r\"\\\\\", file_path)[-1]\n",
    "print(f\"Regex Split - {b}\")\n",
    "%timeit b\n",
    "\n",
    "# Regex Findall\n",
    "c = re.findall(r'([^\\\\]+)', file_path)[-1]\n",
    "print(f\"Pandas Findall - {c}\")\n",
    "%timeit c"
   ]
  },
  {
   "cell_type": "code",
   "execution_count": 305,
   "metadata": {},
   "outputs": [
    {
     "name": "stdout",
     "output_type": "stream",
     "text": [
      "['Blue Cat', 'Green Cat', 'Yellow Cat', 'Orange cat']\n",
      "['Blue Cat', 'Green Cat', 'Yellow Cat', 'Orange cat']\n"
     ]
    }
   ],
   "source": [
    "''' Searching for strings in a list '''\n",
    "animals = ['Blue Cat', 'Red Dog', 'Green Cat', 'Yellow Cat', 'Purple Dog', 'Lonely Category', 'Orange cat']\n",
    "\n",
    "# Define the pattern\n",
    "pattern = re.compile(r'.*Cat\\b', re.I)\n",
    "\n",
    "# List Comprehension\n",
    "print([cat for cat in animals if pattern.match(cat)])\n",
    "\n",
    "# Alternatively, you can create a iterator\n",
    "# Note that filter creates the iterator, and you need to convert it back to a list\n",
    "# Otherwise you will get a filter object returned\n",
    "print(list(filter(pattern.match, animals)))"
   ]
  },
  {
   "cell_type": "code",
   "execution_count": 304,
   "metadata": {},
   "outputs": [
    {
     "name": "stdout",
     "output_type": "stream",
     "text": [
      "['Blue Cat', 'Green Cat', 'Yellow Cat', 'Orange cat']\n"
     ]
    }
   ],
   "source": [
    "''' Notice that Lonely Category was added to the list.\n",
    "    Also note that the Orange cat is missing too\n",
    "    Lets make this non-case sensitive and get category out of there '''\n",
    "\n",
    "# Define the pattern\n",
    "pattern = re.compile(r'.*Cat$', re.I) # or re.IGNORECASE\n",
    "\n",
    "# List Comprehension\n",
    "print([cat for cat in animals if pattern.match(cat)])"
   ]
  },
  {
   "cell_type": "code",
   "execution_count": 306,
   "metadata": {},
   "outputs": [],
   "source": [
    "''' Password Requirements \n",
    "    Alphanumeric string that may include _ and - having a length of 8 to 16 characters ''' \n",
    "\n",
    "# Define the function with input\n",
    "def password_check(password): \n",
    "    \n",
    "    # Define the password\n",
    "    pattern = re.compile(r'^[a-z0-9_-]{8,16}$', re.I)\n",
    "    \n",
    "    # Look for a pattern match on the password\n",
    "    match = pattern.match(str(password))\n",
    "    \n",
    "    # If True, return acceptable text\n",
    "    if bool(match) == True:\n",
    "        return 'This is an acceptable password'\n",
    "    \n",
    "    # Else unacceptable text\n",
    "    else: \n",
    "        return 'This is not an acceptable password, please try again'"
   ]
  },
  {
   "cell_type": "code",
   "execution_count": 311,
   "metadata": {},
   "outputs": [
    {
     "data": {
      "text/plain": [
       "'This is an acceptable password'"
      ]
     },
     "execution_count": 311,
     "metadata": {},
     "output_type": "execute_result"
    }
   ],
   "source": [
    "password_check('helloworld_')"
   ]
  },
  {
   "cell_type": "markdown",
   "metadata": {},
   "source": [
    "# Dataframe Examples"
   ]
  },
  {
   "cell_type": "code",
   "execution_count": 334,
   "metadata": {},
   "outputs": [
    {
     "data": {
      "text/html": [
       "<div>\n",
       "<style scoped>\n",
       "    .dataframe tbody tr th:only-of-type {\n",
       "        vertical-align: middle;\n",
       "    }\n",
       "\n",
       "    .dataframe tbody tr th {\n",
       "        vertical-align: top;\n",
       "    }\n",
       "\n",
       "    .dataframe thead th {\n",
       "        text-align: right;\n",
       "    }\n",
       "</style>\n",
       "<table border=\"1\" class=\"dataframe\">\n",
       "  <thead>\n",
       "    <tr style=\"text-align: right;\">\n",
       "      <th></th>\n",
       "      <th>Name</th>\n",
       "      <th>Email</th>\n",
       "      <th>Address</th>\n",
       "      <th>Answer</th>\n",
       "    </tr>\n",
       "  </thead>\n",
       "  <tbody>\n",
       "    <tr>\n",
       "      <th>0</th>\n",
       "      <td>Steph Johnson</td>\n",
       "      <td>steph@gensler.com</td>\n",
       "      <td>392 Edgefield Avenue Little Rock, AR 72209</td>\n",
       "      <td>I am 30 years old</td>\n",
       "    </tr>\n",
       "    <tr>\n",
       "      <th>1</th>\n",
       "      <td>James Peterson</td>\n",
       "      <td>james@oracle.com</td>\n",
       "      <td>9736 Prairie St. Port Charlotte, FL 33952</td>\n",
       "      <td>Why do you need this?</td>\n",
       "    </tr>\n",
       "    <tr>\n",
       "      <th>2</th>\n",
       "      <td>Peter Black</td>\n",
       "      <td>peter@google.com</td>\n",
       "      <td>82 W. Princess Street Algonquin, IL 60102</td>\n",
       "      <td>42 and 3 months</td>\n",
       "    </tr>\n",
       "    <tr>\n",
       "      <th>3</th>\n",
       "      <td>Flora Arte</td>\n",
       "      <td>flora@linkedin.com</td>\n",
       "      <td>166 Stonybrook Drive Westfield, MA 01085</td>\n",
       "      <td>I'm 19</td>\n",
       "    </tr>\n",
       "    <tr>\n",
       "      <th>4</th>\n",
       "      <td>Olive Van Damne</td>\n",
       "      <td>olive@amazon.com</td>\n",
       "      <td>212 Wakehurst Ave. Absecon, NJ 08205</td>\n",
       "      <td>56</td>\n",
       "    </tr>\n",
       "    <tr>\n",
       "      <th>5</th>\n",
       "      <td>Steve</td>\n",
       "      <td>steve@amazon.com</td>\n",
       "      <td>214 Wakehurst Ave. Absecon, NJ 08205</td>\n",
       "      <td>58</td>\n",
       "    </tr>\n",
       "  </tbody>\n",
       "</table>\n",
       "</div>"
      ],
      "text/plain": [
       "              Name               Email  \\\n",
       "0    Steph Johnson   steph@gensler.com   \n",
       "1   James Peterson    james@oracle.com   \n",
       "2      Peter Black    peter@google.com   \n",
       "3       Flora Arte  flora@linkedin.com   \n",
       "4  Olive Van Damne    olive@amazon.com   \n",
       "5            Steve    steve@amazon.com   \n",
       "\n",
       "                                      Address                 Answer  \n",
       "0  392 Edgefield Avenue Little Rock, AR 72209      I am 30 years old  \n",
       "1   9736 Prairie St. Port Charlotte, FL 33952  Why do you need this?  \n",
       "2   82 W. Princess Street Algonquin, IL 60102        42 and 3 months  \n",
       "3    166 Stonybrook Drive Westfield, MA 01085                 I'm 19  \n",
       "4        212 Wakehurst Ave. Absecon, NJ 08205                     56  \n",
       "5        214 Wakehurst Ave. Absecon, NJ 08205                     58  "
      ]
     },
     "execution_count": 334,
     "metadata": {},
     "output_type": "execute_result"
    }
   ],
   "source": [
    "# Package to create fake data\n",
    "import pandas as pd\n",
    "\n",
    "# Create fake data\n",
    "data = [{'Name': 'Steph Johnson',  'Email': 'steph@gensler.com',  'Address': '392 Edgefield Avenue Little Rock, AR 72209', 'Answer': 'I am 30 years old'}, \n",
    "        {'Name': 'James Peterson', 'Email': 'james@oracle.com',   'Address': '9736 Prairie St. Port Charlotte, FL 33952',  'Answer': 'Why do you need this?'},\n",
    "        {'Name': 'Peter Black',    'Email': 'peter@google.com',   'Address': '82 W. Princess Street Algonquin, IL 60102',  'Answer': '42 and 3 months'},\n",
    "        {'Name': 'Flora Arte',     'Email': 'flora@linkedin.com', 'Address': '166 Stonybrook Drive Westfield, MA 01085',   'Answer': \"I'm 19\"},\n",
    "        {'Name': 'Olive Van Damne',    'Email': 'olive@amazon.com',   'Address': '212 Wakehurst Ave. Absecon, NJ 08205',       'Answer': '56'}, \n",
    "        {'Name': 'Steve',    'Email': 'steve@amazon.com',   'Address': '214 Wakehurst Ave. Absecon, NJ 08205',       'Answer': '58'}]\n",
    "\n",
    "# Initialize Dataframe\n",
    "df = pd.DataFrame(data)\n",
    "\n",
    "# View Data\n",
    "df"
   ]
  },
  {
   "cell_type": "code",
   "execution_count": 339,
   "metadata": {},
   "outputs": [
    {
     "data": {
      "text/html": [
       "<div>\n",
       "<style scoped>\n",
       "    .dataframe tbody tr th:only-of-type {\n",
       "        vertical-align: middle;\n",
       "    }\n",
       "\n",
       "    .dataframe tbody tr th {\n",
       "        vertical-align: top;\n",
       "    }\n",
       "\n",
       "    .dataframe thead th {\n",
       "        text-align: right;\n",
       "    }\n",
       "</style>\n",
       "<table border=\"1\" class=\"dataframe\">\n",
       "  <thead>\n",
       "    <tr style=\"text-align: right;\">\n",
       "      <th></th>\n",
       "      <th>Name</th>\n",
       "      <th>Email</th>\n",
       "      <th>Address</th>\n",
       "      <th>Answer</th>\n",
       "      <th>First Name</th>\n",
       "      <th>Last Name</th>\n",
       "    </tr>\n",
       "  </thead>\n",
       "  <tbody>\n",
       "    <tr>\n",
       "      <th>0</th>\n",
       "      <td>Steph Johnson</td>\n",
       "      <td>steph@gensler.com</td>\n",
       "      <td>392 Edgefield Avenue Little Rock, AR 72209</td>\n",
       "      <td>I am 30 years old</td>\n",
       "      <td>Steph</td>\n",
       "      <td>Johnson</td>\n",
       "    </tr>\n",
       "    <tr>\n",
       "      <th>1</th>\n",
       "      <td>James Peterson</td>\n",
       "      <td>james@oracle.com</td>\n",
       "      <td>9736 Prairie St. Port Charlotte, FL 33952</td>\n",
       "      <td>Why do you need this?</td>\n",
       "      <td>James</td>\n",
       "      <td>Peterson</td>\n",
       "    </tr>\n",
       "    <tr>\n",
       "      <th>2</th>\n",
       "      <td>Peter Black</td>\n",
       "      <td>peter@google.com</td>\n",
       "      <td>82 W. Princess Street Algonquin, IL 60102</td>\n",
       "      <td>42 and 3 months</td>\n",
       "      <td>Peter</td>\n",
       "      <td>Black</td>\n",
       "    </tr>\n",
       "    <tr>\n",
       "      <th>3</th>\n",
       "      <td>Flora Arte</td>\n",
       "      <td>flora@linkedin.com</td>\n",
       "      <td>166 Stonybrook Drive Westfield, MA 01085</td>\n",
       "      <td>I'm 19</td>\n",
       "      <td>Flora</td>\n",
       "      <td>Arte</td>\n",
       "    </tr>\n",
       "    <tr>\n",
       "      <th>4</th>\n",
       "      <td>Olive Van Damne</td>\n",
       "      <td>olive@amazon.com</td>\n",
       "      <td>212 Wakehurst Ave. Absecon, NJ 08205</td>\n",
       "      <td>56</td>\n",
       "      <td>Olive</td>\n",
       "      <td>Van Damne</td>\n",
       "    </tr>\n",
       "    <tr>\n",
       "      <th>5</th>\n",
       "      <td>Steve</td>\n",
       "      <td>steve@amazon.com</td>\n",
       "      <td>214 Wakehurst Ave. Absecon, NJ 08205</td>\n",
       "      <td>58</td>\n",
       "      <td>Steve</td>\n",
       "      <td>None</td>\n",
       "    </tr>\n",
       "  </tbody>\n",
       "</table>\n",
       "</div>"
      ],
      "text/plain": [
       "              Name               Email  \\\n",
       "0    Steph Johnson   steph@gensler.com   \n",
       "1   James Peterson    james@oracle.com   \n",
       "2      Peter Black    peter@google.com   \n",
       "3       Flora Arte  flora@linkedin.com   \n",
       "4  Olive Van Damne    olive@amazon.com   \n",
       "5            Steve    steve@amazon.com   \n",
       "\n",
       "                                      Address                 Answer  \\\n",
       "0  392 Edgefield Avenue Little Rock, AR 72209      I am 30 years old   \n",
       "1   9736 Prairie St. Port Charlotte, FL 33952  Why do you need this?   \n",
       "2   82 W. Princess Street Algonquin, IL 60102        42 and 3 months   \n",
       "3    166 Stonybrook Drive Westfield, MA 01085                 I'm 19   \n",
       "4        212 Wakehurst Ave. Absecon, NJ 08205                     56   \n",
       "5        214 Wakehurst Ave. Absecon, NJ 08205                     58   \n",
       "\n",
       "  First Name  Last Name  \n",
       "0      Steph    Johnson  \n",
       "1      James   Peterson  \n",
       "2      Peter      Black  \n",
       "3      Flora       Arte  \n",
       "4      Olive  Van Damne  \n",
       "5      Steve       None  "
      ]
     },
     "execution_count": 339,
     "metadata": {},
     "output_type": "execute_result"
    }
   ],
   "source": [
    "''' Get First and Last Name '''\n",
    "\n",
    "# Very easy with str.split, allowing you to pass Regex into Pandas functions \n",
    "df[['First Name', 'Last Name']] = df['Name'].str.split('\\s', 1, expand=True)\n",
    "\n",
    "df"
   ]
  },
  {
   "cell_type": "code",
   "execution_count": 325,
   "metadata": {},
   "outputs": [
    {
     "data": {
      "text/html": [
       "<div>\n",
       "<style scoped>\n",
       "    .dataframe tbody tr th:only-of-type {\n",
       "        vertical-align: middle;\n",
       "    }\n",
       "\n",
       "    .dataframe tbody tr th {\n",
       "        vertical-align: top;\n",
       "    }\n",
       "\n",
       "    .dataframe thead th {\n",
       "        text-align: right;\n",
       "    }\n",
       "</style>\n",
       "<table border=\"1\" class=\"dataframe\">\n",
       "  <thead>\n",
       "    <tr style=\"text-align: right;\">\n",
       "      <th></th>\n",
       "      <th>Name</th>\n",
       "      <th>Email</th>\n",
       "      <th>Address</th>\n",
       "      <th>Answer</th>\n",
       "      <th>Company</th>\n",
       "    </tr>\n",
       "  </thead>\n",
       "  <tbody>\n",
       "    <tr>\n",
       "      <th>0</th>\n",
       "      <td>Steph Johnson</td>\n",
       "      <td>steph@gensler.com</td>\n",
       "      <td>392 Edgefield Avenue Little Rock, AR 72209</td>\n",
       "      <td>I am 30 years old</td>\n",
       "      <td>Gensler</td>\n",
       "    </tr>\n",
       "    <tr>\n",
       "      <th>1</th>\n",
       "      <td>James Peterson</td>\n",
       "      <td>james@oracle.com</td>\n",
       "      <td>9736 Prairie St. Port Charlotte, FL 33952</td>\n",
       "      <td>Why do you need this?</td>\n",
       "      <td>Oracle</td>\n",
       "    </tr>\n",
       "    <tr>\n",
       "      <th>2</th>\n",
       "      <td>Peter Black</td>\n",
       "      <td>peter@google.com</td>\n",
       "      <td>82 W. Princess Street Algonquin, IL 60102</td>\n",
       "      <td>42 and 3 months</td>\n",
       "      <td>Google</td>\n",
       "    </tr>\n",
       "    <tr>\n",
       "      <th>3</th>\n",
       "      <td>Flora Arte</td>\n",
       "      <td>flora@linkedin.com</td>\n",
       "      <td>166 Stonybrook Drive Westfield, MA 01085</td>\n",
       "      <td>I'm 19</td>\n",
       "      <td>Linkedin</td>\n",
       "    </tr>\n",
       "    <tr>\n",
       "      <th>4</th>\n",
       "      <td>Olive Van Damne</td>\n",
       "      <td>olive@amazon.com</td>\n",
       "      <td>212 Wakehurst Ave. Absecon, NJ 08205</td>\n",
       "      <td>56</td>\n",
       "      <td>Amazon</td>\n",
       "    </tr>\n",
       "  </tbody>\n",
       "</table>\n",
       "</div>"
      ],
      "text/plain": [
       "              Name               Email  \\\n",
       "0    Steph Johnson   steph@gensler.com   \n",
       "1   James Peterson    james@oracle.com   \n",
       "2      Peter Black    peter@google.com   \n",
       "3       Flora Arte  flora@linkedin.com   \n",
       "4  Olive Van Damne    olive@amazon.com   \n",
       "\n",
       "                                      Address                 Answer   Company  \n",
       "0  392 Edgefield Avenue Little Rock, AR 72209      I am 30 years old   Gensler  \n",
       "1   9736 Prairie St. Port Charlotte, FL 33952  Why do you need this?    Oracle  \n",
       "2   82 W. Princess Street Algonquin, IL 60102        42 and 3 months    Google  \n",
       "3    166 Stonybrook Drive Westfield, MA 01085                 I'm 19  Linkedin  \n",
       "4        212 Wakehurst Ave. Absecon, NJ 08205                     56    Amazon  "
      ]
     },
     "execution_count": 325,
     "metadata": {},
     "output_type": "execute_result"
    }
   ],
   "source": [
    "''' Get the Company Name '''\n",
    "\n",
    "# We already have this from the code above, let's apply it to the dataframe\n",
    "df['Company'] = re.findall(r'(?<=@)(.*)(?=\\.)', str(df['Email']).title())\n",
    "\n",
    "df"
   ]
  },
  {
   "cell_type": "code",
   "execution_count": 326,
   "metadata": {},
   "outputs": [
    {
     "data": {
      "text/html": [
       "<div>\n",
       "<style scoped>\n",
       "    .dataframe tbody tr th:only-of-type {\n",
       "        vertical-align: middle;\n",
       "    }\n",
       "\n",
       "    .dataframe tbody tr th {\n",
       "        vertical-align: top;\n",
       "    }\n",
       "\n",
       "    .dataframe thead th {\n",
       "        text-align: right;\n",
       "    }\n",
       "</style>\n",
       "<table border=\"1\" class=\"dataframe\">\n",
       "  <thead>\n",
       "    <tr style=\"text-align: right;\">\n",
       "      <th></th>\n",
       "      <th>Name</th>\n",
       "      <th>Email</th>\n",
       "      <th>Address</th>\n",
       "      <th>Answer</th>\n",
       "      <th>Company</th>\n",
       "      <th>Age</th>\n",
       "    </tr>\n",
       "  </thead>\n",
       "  <tbody>\n",
       "    <tr>\n",
       "      <th>0</th>\n",
       "      <td>Steph Johnson</td>\n",
       "      <td>steph@gensler.com</td>\n",
       "      <td>392 Edgefield Avenue Little Rock, AR 72209</td>\n",
       "      <td>I am 30 years old</td>\n",
       "      <td>Gensler</td>\n",
       "      <td>30</td>\n",
       "    </tr>\n",
       "    <tr>\n",
       "      <th>1</th>\n",
       "      <td>James Peterson</td>\n",
       "      <td>james@oracle.com</td>\n",
       "      <td>9736 Prairie St. Port Charlotte, FL 33952</td>\n",
       "      <td>Why do you need this?</td>\n",
       "      <td>Oracle</td>\n",
       "      <td>NaN</td>\n",
       "    </tr>\n",
       "    <tr>\n",
       "      <th>2</th>\n",
       "      <td>Peter Black</td>\n",
       "      <td>peter@google.com</td>\n",
       "      <td>82 W. Princess Street Algonquin, IL 60102</td>\n",
       "      <td>42 and 3 months</td>\n",
       "      <td>Google</td>\n",
       "      <td>42</td>\n",
       "    </tr>\n",
       "    <tr>\n",
       "      <th>3</th>\n",
       "      <td>Flora Arte</td>\n",
       "      <td>flora@linkedin.com</td>\n",
       "      <td>166 Stonybrook Drive Westfield, MA 01085</td>\n",
       "      <td>I'm 19</td>\n",
       "      <td>Linkedin</td>\n",
       "      <td>19</td>\n",
       "    </tr>\n",
       "    <tr>\n",
       "      <th>4</th>\n",
       "      <td>Olive Van Damne</td>\n",
       "      <td>olive@amazon.com</td>\n",
       "      <td>212 Wakehurst Ave. Absecon, NJ 08205</td>\n",
       "      <td>56</td>\n",
       "      <td>Amazon</td>\n",
       "      <td>56</td>\n",
       "    </tr>\n",
       "  </tbody>\n",
       "</table>\n",
       "</div>"
      ],
      "text/plain": [
       "              Name               Email  \\\n",
       "0    Steph Johnson   steph@gensler.com   \n",
       "1   James Peterson    james@oracle.com   \n",
       "2      Peter Black    peter@google.com   \n",
       "3       Flora Arte  flora@linkedin.com   \n",
       "4  Olive Van Damne    olive@amazon.com   \n",
       "\n",
       "                                      Address                 Answer  \\\n",
       "0  392 Edgefield Avenue Little Rock, AR 72209      I am 30 years old   \n",
       "1   9736 Prairie St. Port Charlotte, FL 33952  Why do you need this?   \n",
       "2   82 W. Princess Street Algonquin, IL 60102        42 and 3 months   \n",
       "3    166 Stonybrook Drive Westfield, MA 01085                 I'm 19   \n",
       "4        212 Wakehurst Ave. Absecon, NJ 08205                     56   \n",
       "\n",
       "    Company  Age  \n",
       "0   Gensler   30  \n",
       "1    Oracle  NaN  \n",
       "2    Google   42  \n",
       "3  Linkedin   19  \n",
       "4    Amazon   56  "
      ]
     },
     "execution_count": 326,
     "metadata": {},
     "output_type": "execute_result"
    }
   ],
   "source": [
    "''' Get the Age from Answer '''\n",
    "\n",
    "# Note that we can't use findall, as we did above\n",
    "# Also note that we are only getting the first number in the string\n",
    "df['Age'] = df['Answer'].str.extract('(\\d+)')\n",
    "\n",
    "df"
   ]
  },
  {
   "cell_type": "code",
   "execution_count": 329,
   "metadata": {},
   "outputs": [],
   "source": [
    "''' Parsing the Address \n",
    "    This is a beast of its own and there are entire companies dedicated to verifying addresses \n",
    "    We are not going to go into this, but below are some ways you could go about doing it \n",
    "    Notice its almost impossible with Regex to parse the street and the city '''\n",
    "\n",
    "# Grab the last number occurrence in the Address string\n",
    "df['Zip Code'] = df['Address'].str.extract('(\\d+)$')\n",
    "\n",
    "# Grab all words after comma\n",
    "df['State'] = df['Address'].str.extract('(?<=,)(.*)(?=\\s\\d)')\n"
   ]
  },
  {
   "cell_type": "code",
   "execution_count": 330,
   "metadata": {},
   "outputs": [
    {
     "data": {
      "text/html": [
       "<div>\n",
       "<style scoped>\n",
       "    .dataframe tbody tr th:only-of-type {\n",
       "        vertical-align: middle;\n",
       "    }\n",
       "\n",
       "    .dataframe tbody tr th {\n",
       "        vertical-align: top;\n",
       "    }\n",
       "\n",
       "    .dataframe thead th {\n",
       "        text-align: right;\n",
       "    }\n",
       "</style>\n",
       "<table border=\"1\" class=\"dataframe\">\n",
       "  <thead>\n",
       "    <tr style=\"text-align: right;\">\n",
       "      <th></th>\n",
       "      <th>Name</th>\n",
       "      <th>Email</th>\n",
       "      <th>Address</th>\n",
       "      <th>Answer</th>\n",
       "      <th>Company</th>\n",
       "      <th>Age</th>\n",
       "      <th>Zip Code</th>\n",
       "      <th>State</th>\n",
       "    </tr>\n",
       "  </thead>\n",
       "  <tbody>\n",
       "    <tr>\n",
       "      <th>0</th>\n",
       "      <td>Steph Johnson</td>\n",
       "      <td>steph@gensler.com</td>\n",
       "      <td>392 Edgefield Avenue Little Rock, AR 72209</td>\n",
       "      <td>I am 30 years old</td>\n",
       "      <td>Gensler</td>\n",
       "      <td>30</td>\n",
       "      <td>72209</td>\n",
       "      <td>AR</td>\n",
       "    </tr>\n",
       "    <tr>\n",
       "      <th>1</th>\n",
       "      <td>James Peterson</td>\n",
       "      <td>james@oracle.com</td>\n",
       "      <td>9736 Prairie St. Port Charlotte, FL 33952</td>\n",
       "      <td>Why do you need this?</td>\n",
       "      <td>Oracle</td>\n",
       "      <td>NaN</td>\n",
       "      <td>33952</td>\n",
       "      <td>FL</td>\n",
       "    </tr>\n",
       "    <tr>\n",
       "      <th>2</th>\n",
       "      <td>Peter Black</td>\n",
       "      <td>peter@google.com</td>\n",
       "      <td>82 W. Princess Street Algonquin, IL 60102</td>\n",
       "      <td>42 and 3 months</td>\n",
       "      <td>Google</td>\n",
       "      <td>42</td>\n",
       "      <td>60102</td>\n",
       "      <td>IL</td>\n",
       "    </tr>\n",
       "    <tr>\n",
       "      <th>3</th>\n",
       "      <td>Flora Arte</td>\n",
       "      <td>flora@linkedin.com</td>\n",
       "      <td>166 Stonybrook Drive Westfield, MA 01085</td>\n",
       "      <td>I'm 19</td>\n",
       "      <td>Linkedin</td>\n",
       "      <td>19</td>\n",
       "      <td>01085</td>\n",
       "      <td>MA</td>\n",
       "    </tr>\n",
       "    <tr>\n",
       "      <th>4</th>\n",
       "      <td>Olive Van Damne</td>\n",
       "      <td>olive@amazon.com</td>\n",
       "      <td>212 Wakehurst Ave. Absecon, NJ 08205</td>\n",
       "      <td>56</td>\n",
       "      <td>Amazon</td>\n",
       "      <td>56</td>\n",
       "      <td>08205</td>\n",
       "      <td>NJ</td>\n",
       "    </tr>\n",
       "  </tbody>\n",
       "</table>\n",
       "</div>"
      ],
      "text/plain": [
       "              Name               Email  \\\n",
       "0    Steph Johnson   steph@gensler.com   \n",
       "1   James Peterson    james@oracle.com   \n",
       "2      Peter Black    peter@google.com   \n",
       "3       Flora Arte  flora@linkedin.com   \n",
       "4  Olive Van Damne    olive@amazon.com   \n",
       "\n",
       "                                      Address                 Answer  \\\n",
       "0  392 Edgefield Avenue Little Rock, AR 72209      I am 30 years old   \n",
       "1   9736 Prairie St. Port Charlotte, FL 33952  Why do you need this?   \n",
       "2   82 W. Princess Street Algonquin, IL 60102        42 and 3 months   \n",
       "3    166 Stonybrook Drive Westfield, MA 01085                 I'm 19   \n",
       "4        212 Wakehurst Ave. Absecon, NJ 08205                     56   \n",
       "\n",
       "    Company  Age Zip Code State  \n",
       "0   Gensler   30    72209    AR  \n",
       "1    Oracle  NaN    33952    FL  \n",
       "2    Google   42    60102    IL  \n",
       "3  Linkedin   19    01085    MA  \n",
       "4    Amazon   56    08205    NJ  "
      ]
     },
     "execution_count": 330,
     "metadata": {},
     "output_type": "execute_result"
    }
   ],
   "source": [
    "df"
   ]
  },
  {
   "cell_type": "code",
   "execution_count": null,
   "metadata": {},
   "outputs": [],
   "source": []
  }
 ],
 "metadata": {
  "kernelspec": {
   "display_name": "Python 3",
   "language": "python",
   "name": "python3"
  },
  "language_info": {
   "codemirror_mode": {
    "name": "ipython",
    "version": 3
   },
   "file_extension": ".py",
   "mimetype": "text/x-python",
   "name": "python",
   "nbconvert_exporter": "python",
   "pygments_lexer": "ipython3",
   "version": "3.7.6"
  },
  "toc-autonumbering": false
 },
 "nbformat": 4,
 "nbformat_minor": 4
}
