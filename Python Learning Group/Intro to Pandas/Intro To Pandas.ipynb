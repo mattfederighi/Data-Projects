{
 "cells": [
  {
   "cell_type": "markdown",
   "metadata": {},
   "source": [
    "# Reading Files & Intro to Pandas\n",
    "\n",
    "To use pandas, you'll typically start with the following line of code."
   ]
  },
  {
   "cell_type": "code",
   "execution_count": 3,
   "metadata": {},
   "outputs": [],
   "source": [
    "import pandas as pd"
   ]
  },
  {
   "cell_type": "markdown",
   "metadata": {},
   "source": [
    "There are two core objects in pandas: the DataFrame and the Series."
   ]
  },
  {
   "cell_type": "markdown",
   "metadata": {},
   "source": [
    "## Dataframe\n",
    "\n",
    "A DataFrame is a table. It contains an array of individual entries, each of which has a certain value. Each entry corresponds to a row (or record) and a column.\n",
    "\n",
    "We are using the pd.DataFrame() constructor to generate these DataFrame objects. The syntax for declaring a new one is a dictionary whose keys are the column names (Bob and Sue in this example), and whose values are a list of entries. This is the standard way of constructing a new DataFrame, and the one you are most likely to encounter."
   ]
  },
  {
   "cell_type": "code",
   "execution_count": 4,
   "metadata": {},
   "outputs": [
    {
     "data": {
      "text/html": [
       "<div>\n",
       "<style scoped>\n",
       "    .dataframe tbody tr th:only-of-type {\n",
       "        vertical-align: middle;\n",
       "    }\n",
       "\n",
       "    .dataframe tbody tr th {\n",
       "        vertical-align: top;\n",
       "    }\n",
       "\n",
       "    .dataframe thead th {\n",
       "        text-align: right;\n",
       "    }\n",
       "</style>\n",
       "<table border=\"1\" class=\"dataframe\">\n",
       "  <thead>\n",
       "    <tr style=\"text-align: right;\">\n",
       "      <th></th>\n",
       "      <th>David</th>\n",
       "      <th>Patty</th>\n",
       "    </tr>\n",
       "  </thead>\n",
       "  <tbody>\n",
       "    <tr>\n",
       "      <th>0</th>\n",
       "      <td>81</td>\n",
       "      <td>99</td>\n",
       "    </tr>\n",
       "    <tr>\n",
       "      <th>1</th>\n",
       "      <td>93</td>\n",
       "      <td>91</td>\n",
       "    </tr>\n",
       "  </tbody>\n",
       "</table>\n",
       "</div>"
      ],
      "text/plain": [
       "   David  Patty\n",
       "0     81     99\n",
       "1     93     91"
      ]
     },
     "execution_count": 4,
     "metadata": {},
     "output_type": "execute_result"
    }
   ],
   "source": [
    "pd.DataFrame({'David': [81, 93], \n",
    "              'Patty': [99, 91]\n",
    "             })"
   ]
  },
  {
   "cell_type": "markdown",
   "metadata": {},
   "source": [
    "In this example, we are assigning an index to the dataframe to make it more readable"
   ]
  },
  {
   "cell_type": "code",
   "execution_count": 5,
   "metadata": {},
   "outputs": [
    {
     "data": {
      "text/html": [
       "<div>\n",
       "<style scoped>\n",
       "    .dataframe tbody tr th:only-of-type {\n",
       "        vertical-align: middle;\n",
       "    }\n",
       "\n",
       "    .dataframe tbody tr th {\n",
       "        vertical-align: top;\n",
       "    }\n",
       "\n",
       "    .dataframe thead th {\n",
       "        text-align: right;\n",
       "    }\n",
       "</style>\n",
       "<table border=\"1\" class=\"dataframe\">\n",
       "  <thead>\n",
       "    <tr style=\"text-align: right;\">\n",
       "      <th></th>\n",
       "      <th>David</th>\n",
       "      <th>Patty</th>\n",
       "    </tr>\n",
       "  </thead>\n",
       "  <tbody>\n",
       "    <tr>\n",
       "      <th>Midterm</th>\n",
       "      <td>81</td>\n",
       "      <td>99</td>\n",
       "    </tr>\n",
       "    <tr>\n",
       "      <th>Final</th>\n",
       "      <td>93</td>\n",
       "      <td>91</td>\n",
       "    </tr>\n",
       "  </tbody>\n",
       "</table>\n",
       "</div>"
      ],
      "text/plain": [
       "         David  Patty\n",
       "Midterm     81     99\n",
       "Final       93     91"
      ]
     },
     "execution_count": 5,
     "metadata": {},
     "output_type": "execute_result"
    }
   ],
   "source": [
    "pd.DataFrame({'David': [81, 93], \n",
    "              'Patty': [99, 91]},\n",
    "             index = ['Midterm', 'Final'])"
   ]
  },
  {
   "cell_type": "markdown",
   "metadata": {},
   "source": [
    "## Series\n",
    "\n",
    "A Series, by contrast, is a sequence of data values. If a DataFrame is a table, a Series is a list. And in fact you can create one with nothing more than a list:"
   ]
  },
  {
   "cell_type": "code",
   "execution_count": 6,
   "metadata": {},
   "outputs": [
    {
     "data": {
      "text/plain": [
       "0    1\n",
       "1    2\n",
       "2    3\n",
       "3    4\n",
       "4    5\n",
       "dtype: int64"
      ]
     },
     "execution_count": 6,
     "metadata": {},
     "output_type": "execute_result"
    }
   ],
   "source": [
    "pd.Series([1, 2, 3, 4, 5])"
   ]
  },
  {
   "cell_type": "markdown",
   "metadata": {},
   "source": [
    "A Series is, in essence, a single column of a DataFrame. So you can assign column values to the Series the same way as before, using an index parameter. However, a Series does not have a column name, it only has one overall name:"
   ]
  },
  {
   "cell_type": "code",
   "execution_count": 7,
   "metadata": {},
   "outputs": [
    {
     "data": {
      "text/plain": [
       "Midterm    99\n",
       "Final      91\n",
       "Name: Test Scores, dtype: int64"
      ]
     },
     "execution_count": 7,
     "metadata": {},
     "output_type": "execute_result"
    }
   ],
   "source": [
    "pd.Series([99, 91], index=['Midterm', 'Final'], name='Test Scores')"
   ]
  },
  {
   "cell_type": "markdown",
   "metadata": {},
   "source": [
    "# Reading Data Files\n",
    "\n",
    "For this demonstration, we are going to be using a subset of a [Spotify Dataset on Kaggle](https://www.kaggle.com/yamaerenay/spotify-dataset-19212020-160k-tracks?select=data.csv). I've gone ahead and reduced the number of records significantly, but you can download the full dataset in the link above. "
   ]
  },
  {
   "cell_type": "markdown",
   "metadata": {},
   "source": [
    "## Operating System (OS)\n",
    "\n",
    "First thing to note is about directories. You can always pass the entire file path into the open argument, but sometimes it's easier to just use the file name. If that's the case for you, then make sure you check your current directory with the os package"
   ]
  },
  {
   "cell_type": "code",
   "execution_count": 8,
   "metadata": {},
   "outputs": [
    {
     "data": {
      "text/plain": [
       "'C:\\\\Users\\\\mfederighi\\\\Jupyter_WD\\\\Python Learning Group\\\\Intro to Pandas'"
      ]
     },
     "execution_count": 8,
     "metadata": {},
     "output_type": "execute_result"
    }
   ],
   "source": [
    "import os\n",
    "\n",
    "os.getcwd()"
   ]
  },
  {
   "cell_type": "markdown",
   "metadata": {},
   "source": [
    "If you want to change your current working directory, then you can do so by doing the following"
   ]
  },
  {
   "cell_type": "code",
   "execution_count": 10,
   "metadata": {},
   "outputs": [
    {
     "data": {
      "text/plain": [
       "'C:\\\\Users\\\\mfederighi\\\\Jupyter_WD\\\\Python Learning Group\\\\Intro to Pandas'"
      ]
     },
     "execution_count": 10,
     "metadata": {},
     "output_type": "execute_result"
    }
   ],
   "source": [
    "os.chdir('C:\\\\Users\\\\mfederighi\\\\Jupyter_WD\\\\Python Learning Group\\\\JupyterLab Demo')\n",
    "         \n",
    "os.getcwd()"
   ]
  },
  {
   "cell_type": "markdown",
   "metadata": {},
   "source": [
    "There are multiple ways you can read files into python, but for now we are only going to look at the Pandas module"
   ]
  },
  {
   "cell_type": "markdown",
   "metadata": {},
   "source": [
    "## Read a Single CSV\n",
    "\n",
    "Being able to create a DataFrame or Series by hand is handy. But, most of the time, we won't actually be creating our own data by hand. Instead, we'll be working with data that already exists.\n",
    "\n",
    "Data can be stored in any of a number of different forms and formats. By far the most basic of these is the humble CSV file.  "
   ]
  },
  {
   "cell_type": "code",
   "execution_count": 11,
   "metadata": {},
   "outputs": [
    {
     "data": {
      "text/html": [
       "<div>\n",
       "<style scoped>\n",
       "    .dataframe tbody tr th:only-of-type {\n",
       "        vertical-align: middle;\n",
       "    }\n",
       "\n",
       "    .dataframe tbody tr th {\n",
       "        vertical-align: top;\n",
       "    }\n",
       "\n",
       "    .dataframe thead th {\n",
       "        text-align: right;\n",
       "    }\n",
       "</style>\n",
       "<table border=\"1\" class=\"dataframe\">\n",
       "  <thead>\n",
       "    <tr style=\"text-align: right;\">\n",
       "      <th></th>\n",
       "      <th>valence</th>\n",
       "      <th>year</th>\n",
       "      <th>acousticness</th>\n",
       "      <th>artists</th>\n",
       "      <th>danceability</th>\n",
       "      <th>duration_ms</th>\n",
       "      <th>energy</th>\n",
       "      <th>explicit</th>\n",
       "      <th>id</th>\n",
       "      <th>instrumentalness</th>\n",
       "      <th>key</th>\n",
       "      <th>liveness</th>\n",
       "      <th>loudness</th>\n",
       "      <th>mode</th>\n",
       "      <th>name</th>\n",
       "      <th>popularity</th>\n",
       "      <th>release_date</th>\n",
       "      <th>speechiness</th>\n",
       "      <th>tempo</th>\n",
       "    </tr>\n",
       "  </thead>\n",
       "  <tbody>\n",
       "    <tr>\n",
       "      <th>0</th>\n",
       "      <td>0.756</td>\n",
       "      <td>2020</td>\n",
       "      <td>0.2210</td>\n",
       "      <td>['24kGoldn', 'iann dior']</td>\n",
       "      <td>0.700</td>\n",
       "      <td>140526</td>\n",
       "      <td>0.722</td>\n",
       "      <td>1</td>\n",
       "      <td>3tjFYV6RSFtuktYl3ZtYcq</td>\n",
       "      <td>0.000000</td>\n",
       "      <td>7</td>\n",
       "      <td>0.2720</td>\n",
       "      <td>-3.558</td>\n",
       "      <td>0</td>\n",
       "      <td>Mood (feat. iann dior)</td>\n",
       "      <td>99</td>\n",
       "      <td>2020-07-24</td>\n",
       "      <td>0.0369</td>\n",
       "      <td>90.989</td>\n",
       "    </tr>\n",
       "    <tr>\n",
       "      <th>1</th>\n",
       "      <td>0.347</td>\n",
       "      <td>2020</td>\n",
       "      <td>0.1140</td>\n",
       "      <td>['Pop Smoke', 'Lil Baby', 'DaBaby']</td>\n",
       "      <td>0.823</td>\n",
       "      <td>190476</td>\n",
       "      <td>0.586</td>\n",
       "      <td>1</td>\n",
       "      <td>0PvFJmanyNQMseIFrU708S</td>\n",
       "      <td>0.000000</td>\n",
       "      <td>6</td>\n",
       "      <td>0.1930</td>\n",
       "      <td>-6.606</td>\n",
       "      <td>0</td>\n",
       "      <td>For The Night (feat. Lil Baby &amp; DaBaby)</td>\n",
       "      <td>95</td>\n",
       "      <td>2020-07-03</td>\n",
       "      <td>0.2000</td>\n",
       "      <td>125.971</td>\n",
       "    </tr>\n",
       "    <tr>\n",
       "      <th>2</th>\n",
       "      <td>0.357</td>\n",
       "      <td>2020</td>\n",
       "      <td>0.0194</td>\n",
       "      <td>['Cardi B', 'Megan Thee Stallion']</td>\n",
       "      <td>0.935</td>\n",
       "      <td>187541</td>\n",
       "      <td>0.454</td>\n",
       "      <td>1</td>\n",
       "      <td>4Oun2ylbjFKMPTiaSbbCih</td>\n",
       "      <td>0.000000</td>\n",
       "      <td>1</td>\n",
       "      <td>0.0824</td>\n",
       "      <td>-7.509</td>\n",
       "      <td>1</td>\n",
       "      <td>WAP (feat. Megan Thee Stallion)</td>\n",
       "      <td>96</td>\n",
       "      <td>2020-08-07</td>\n",
       "      <td>0.3750</td>\n",
       "      <td>133.073</td>\n",
       "    </tr>\n",
       "    <tr>\n",
       "      <th>3</th>\n",
       "      <td>0.522</td>\n",
       "      <td>2020</td>\n",
       "      <td>0.2440</td>\n",
       "      <td>['Drake', 'Lil Durk']</td>\n",
       "      <td>0.761</td>\n",
       "      <td>261493</td>\n",
       "      <td>0.518</td>\n",
       "      <td>1</td>\n",
       "      <td>2SAqBLGA283SUiwJ3xOUVI</td>\n",
       "      <td>0.000035</td>\n",
       "      <td>0</td>\n",
       "      <td>0.1070</td>\n",
       "      <td>-8.871</td>\n",
       "      <td>1</td>\n",
       "      <td>Laugh Now Cry Later (feat. Lil Durk)</td>\n",
       "      <td>93</td>\n",
       "      <td>2020-08-14</td>\n",
       "      <td>0.1340</td>\n",
       "      <td>133.976</td>\n",
       "    </tr>\n",
       "    <tr>\n",
       "      <th>4</th>\n",
       "      <td>0.682</td>\n",
       "      <td>2020</td>\n",
       "      <td>0.4680</td>\n",
       "      <td>['Ariana Grande']</td>\n",
       "      <td>0.737</td>\n",
       "      <td>172325</td>\n",
       "      <td>0.802</td>\n",
       "      <td>1</td>\n",
       "      <td>35mvY5S1H3J2QZyna3TFe0</td>\n",
       "      <td>0.000000</td>\n",
       "      <td>0</td>\n",
       "      <td>0.0931</td>\n",
       "      <td>-4.771</td>\n",
       "      <td>1</td>\n",
       "      <td>positions</td>\n",
       "      <td>96</td>\n",
       "      <td>2020-10-30</td>\n",
       "      <td>0.0878</td>\n",
       "      <td>144.015</td>\n",
       "    </tr>\n",
       "  </tbody>\n",
       "</table>\n",
       "</div>"
      ],
      "text/plain": [
       "   valence  year  acousticness                              artists  \\\n",
       "0    0.756  2020        0.2210            ['24kGoldn', 'iann dior']   \n",
       "1    0.347  2020        0.1140  ['Pop Smoke', 'Lil Baby', 'DaBaby']   \n",
       "2    0.357  2020        0.0194   ['Cardi B', 'Megan Thee Stallion']   \n",
       "3    0.522  2020        0.2440                ['Drake', 'Lil Durk']   \n",
       "4    0.682  2020        0.4680                    ['Ariana Grande']   \n",
       "\n",
       "   danceability  duration_ms  energy  explicit                      id  \\\n",
       "0         0.700       140526   0.722         1  3tjFYV6RSFtuktYl3ZtYcq   \n",
       "1         0.823       190476   0.586         1  0PvFJmanyNQMseIFrU708S   \n",
       "2         0.935       187541   0.454         1  4Oun2ylbjFKMPTiaSbbCih   \n",
       "3         0.761       261493   0.518         1  2SAqBLGA283SUiwJ3xOUVI   \n",
       "4         0.737       172325   0.802         1  35mvY5S1H3J2QZyna3TFe0   \n",
       "\n",
       "   instrumentalness  key  liveness  loudness  mode  \\\n",
       "0          0.000000    7    0.2720    -3.558     0   \n",
       "1          0.000000    6    0.1930    -6.606     0   \n",
       "2          0.000000    1    0.0824    -7.509     1   \n",
       "3          0.000035    0    0.1070    -8.871     1   \n",
       "4          0.000000    0    0.0931    -4.771     1   \n",
       "\n",
       "                                      name  popularity release_date  \\\n",
       "0                   Mood (feat. iann dior)          99   2020-07-24   \n",
       "1  For The Night (feat. Lil Baby & DaBaby)          95   2020-07-03   \n",
       "2          WAP (feat. Megan Thee Stallion)          96   2020-08-07   \n",
       "3     Laugh Now Cry Later (feat. Lil Durk)          93   2020-08-14   \n",
       "4                                positions          96   2020-10-30   \n",
       "\n",
       "   speechiness    tempo  \n",
       "0       0.0369   90.989  \n",
       "1       0.2000  125.971  \n",
       "2       0.3750  133.073  \n",
       "3       0.1340  133.976  \n",
       "4       0.0878  144.015  "
      ]
     },
     "execution_count": 11,
     "metadata": {},
     "output_type": "execute_result"
    }
   ],
   "source": [
    "spotify_2020 = pd.read_csv(\"Spotify_2020.csv\")\n",
    "\n",
    "spotify_2020.head() # head shows the first 5 rows by default. If you want more or less, put the number inside the parenthesis"
   ]
  },
  {
   "cell_type": "markdown",
   "metadata": {},
   "source": [
    "There are many different parameters in the read_csv function, [all of which can be seen here](https://pandas.pydata.org/pandas-docs/stable/reference/api/pandas.read_csv.html)\n",
    "\n",
    "You can change the separator type, the delimeter, skip the first row, change the column names, etc. There are a lot of options to read in your data and format it appropriately. Here's an example of some of those parameters: "
   ]
  },
  {
   "cell_type": "code",
   "execution_count": 14,
   "metadata": {},
   "outputs": [
    {
     "data": {
      "text/html": [
       "<div>\n",
       "<style scoped>\n",
       "    .dataframe tbody tr th:only-of-type {\n",
       "        vertical-align: middle;\n",
       "    }\n",
       "\n",
       "    .dataframe tbody tr th {\n",
       "        vertical-align: top;\n",
       "    }\n",
       "\n",
       "    .dataframe thead th {\n",
       "        text-align: right;\n",
       "    }\n",
       "</style>\n",
       "<table border=\"1\" class=\"dataframe\">\n",
       "  <thead>\n",
       "    <tr style=\"text-align: right;\">\n",
       "      <th></th>\n",
       "      <th>Valence</th>\n",
       "      <th>Year</th>\n",
       "      <th>Acousticness</th>\n",
       "    </tr>\n",
       "  </thead>\n",
       "  <tbody>\n",
       "    <tr>\n",
       "      <th>0</th>\n",
       "      <td>0.347</td>\n",
       "      <td>2020</td>\n",
       "      <td>0.1140</td>\n",
       "    </tr>\n",
       "    <tr>\n",
       "      <th>1</th>\n",
       "      <td>0.357</td>\n",
       "      <td>2020</td>\n",
       "      <td>0.0194</td>\n",
       "    </tr>\n",
       "    <tr>\n",
       "      <th>2</th>\n",
       "      <td>0.522</td>\n",
       "      <td>2020</td>\n",
       "      <td>0.2440</td>\n",
       "    </tr>\n",
       "    <tr>\n",
       "      <th>3</th>\n",
       "      <td>0.682</td>\n",
       "      <td>2020</td>\n",
       "      <td>0.4680</td>\n",
       "    </tr>\n",
       "    <tr>\n",
       "      <th>4</th>\n",
       "      <td>0.145</td>\n",
       "      <td>2020</td>\n",
       "      <td>0.4010</td>\n",
       "    </tr>\n",
       "  </tbody>\n",
       "</table>\n",
       "</div>"
      ],
      "text/plain": [
       "   Valence  Year  Acousticness\n",
       "0    0.347  2020        0.1140\n",
       "1    0.357  2020        0.0194\n",
       "2    0.522  2020        0.2440\n",
       "3    0.682  2020        0.4680\n",
       "4    0.145  2020        0.4010"
      ]
     },
     "execution_count": 14,
     "metadata": {},
     "output_type": "execute_result"
    }
   ],
   "source": [
    "# Read the file, take only the first 3 columns, rename the columns, change the encoding\n",
    "spotify_2020_test = pd.read_csv(\"Spotify_2020.csv\", usecols = [0, 1, 2], names = ['Valence', 'Year', 'Acousticness'], header = 1)\n",
    "\n",
    "spotify_2020_test.head()"
   ]
  },
  {
   "cell_type": "markdown",
   "metadata": {},
   "source": [
    "# General Functions for a Pandas Dataframe\n",
    "\n",
    "There are a lot of built-in pandas functions to help you get an idea of your dataframe structure"
   ]
  },
  {
   "cell_type": "code",
   "execution_count": 15,
   "metadata": {},
   "outputs": [
    {
     "data": {
      "text/plain": [
       "(2030, 19)"
      ]
     },
     "execution_count": 15,
     "metadata": {},
     "output_type": "execute_result"
    }
   ],
   "source": [
    "spotify_2020.shape # shows the number of rows and number of columns"
   ]
  },
  {
   "cell_type": "code",
   "execution_count": 16,
   "metadata": {},
   "outputs": [
    {
     "data": {
      "text/plain": [
       "38570"
      ]
     },
     "execution_count": 16,
     "metadata": {},
     "output_type": "execute_result"
    }
   ],
   "source": [
    "spotify_2020.size # Shows you the file size"
   ]
  },
  {
   "cell_type": "code",
   "execution_count": 17,
   "metadata": {},
   "outputs": [
    {
     "data": {
      "text/plain": [
       "Index(['valence', 'year', 'acousticness', 'artists', 'danceability',\n",
       "       'duration_ms', 'energy', 'explicit', 'id', 'instrumentalness', 'key',\n",
       "       'liveness', 'loudness', 'mode', 'name', 'popularity', 'release_date',\n",
       "       'speechiness', 'tempo'],\n",
       "      dtype='object')"
      ]
     },
     "execution_count": 17,
     "metadata": {},
     "output_type": "execute_result"
    }
   ],
   "source": [
    "spotify_2020.columns # shows you the columns names"
   ]
  },
  {
   "cell_type": "code",
   "execution_count": null,
   "metadata": {},
   "outputs": [],
   "source": [
    "# Alternatively, this is how you can change the column names after the dataframe has been defined\n",
    "# spotify_2020.columns = ['a', 'b', 'c', 'd', 'e', 'f', 'g', 'h', 'i', 'j','k', 'l']"
   ]
  },
  {
   "cell_type": "code",
   "execution_count": 18,
   "metadata": {},
   "outputs": [
    {
     "data": {
      "text/plain": [
       "valence             float64\n",
       "year                  int64\n",
       "acousticness        float64\n",
       "artists              object\n",
       "danceability        float64\n",
       "duration_ms           int64\n",
       "energy              float64\n",
       "explicit              int64\n",
       "id                   object\n",
       "instrumentalness    float64\n",
       "key                   int64\n",
       "liveness            float64\n",
       "loudness            float64\n",
       "mode                  int64\n",
       "name                 object\n",
       "popularity            int64\n",
       "release_date         object\n",
       "speechiness         float64\n",
       "tempo               float64\n",
       "dtype: object"
      ]
     },
     "execution_count": 18,
     "metadata": {},
     "output_type": "execute_result"
    }
   ],
   "source": [
    "spotify_2020.dtypes # See all the data types in the dataframe"
   ]
  },
  {
   "cell_type": "code",
   "execution_count": 19,
   "metadata": {},
   "outputs": [
    {
     "name": "stdout",
     "output_type": "stream",
     "text": [
      "<class 'pandas.core.frame.DataFrame'>\n",
      "RangeIndex: 2030 entries, 0 to 2029\n",
      "Data columns (total 19 columns):\n",
      " #   Column            Non-Null Count  Dtype  \n",
      "---  ------            --------------  -----  \n",
      " 0   valence           2030 non-null   float64\n",
      " 1   year              2030 non-null   int64  \n",
      " 2   acousticness      2030 non-null   float64\n",
      " 3   artists           2030 non-null   object \n",
      " 4   danceability      2030 non-null   float64\n",
      " 5   duration_ms       2030 non-null   int64  \n",
      " 6   energy            2030 non-null   float64\n",
      " 7   explicit          2030 non-null   int64  \n",
      " 8   id                2030 non-null   object \n",
      " 9   instrumentalness  2030 non-null   float64\n",
      " 10  key               2030 non-null   int64  \n",
      " 11  liveness          2030 non-null   float64\n",
      " 12  loudness          2030 non-null   float64\n",
      " 13  mode              2030 non-null   int64  \n",
      " 14  name              2030 non-null   object \n",
      " 15  popularity        2030 non-null   int64  \n",
      " 16  release_date      2030 non-null   object \n",
      " 17  speechiness       2030 non-null   float64\n",
      " 18  tempo             2030 non-null   float64\n",
      "dtypes: float64(9), int64(6), object(4)\n",
      "memory usage: 301.5+ KB\n"
     ]
    }
   ],
   "source": [
    "spotify_2020.info() # gives a high-level view of the dataframe, including data types and null values"
   ]
  },
  {
   "cell_type": "code",
   "execution_count": 20,
   "metadata": {},
   "outputs": [
    {
     "data": {
      "text/html": [
       "<div>\n",
       "<style scoped>\n",
       "    .dataframe tbody tr th:only-of-type {\n",
       "        vertical-align: middle;\n",
       "    }\n",
       "\n",
       "    .dataframe tbody tr th {\n",
       "        vertical-align: top;\n",
       "    }\n",
       "\n",
       "    .dataframe thead th {\n",
       "        text-align: right;\n",
       "    }\n",
       "</style>\n",
       "<table border=\"1\" class=\"dataframe\">\n",
       "  <thead>\n",
       "    <tr style=\"text-align: right;\">\n",
       "      <th></th>\n",
       "      <th>valence</th>\n",
       "      <th>year</th>\n",
       "      <th>acousticness</th>\n",
       "      <th>danceability</th>\n",
       "      <th>duration_ms</th>\n",
       "      <th>energy</th>\n",
       "      <th>explicit</th>\n",
       "      <th>instrumentalness</th>\n",
       "      <th>key</th>\n",
       "      <th>liveness</th>\n",
       "      <th>loudness</th>\n",
       "      <th>mode</th>\n",
       "      <th>popularity</th>\n",
       "      <th>speechiness</th>\n",
       "      <th>tempo</th>\n",
       "    </tr>\n",
       "  </thead>\n",
       "  <tbody>\n",
       "    <tr>\n",
       "      <th>count</th>\n",
       "      <td>2030.000000</td>\n",
       "      <td>2030.0</td>\n",
       "      <td>2030.000000</td>\n",
       "      <td>2030.000000</td>\n",
       "      <td>2030.000000</td>\n",
       "      <td>2030.000000</td>\n",
       "      <td>2030.000000</td>\n",
       "      <td>2030.000000</td>\n",
       "      <td>2030.000000</td>\n",
       "      <td>2030.000000</td>\n",
       "      <td>2030.000000</td>\n",
       "      <td>2030.000000</td>\n",
       "      <td>2030.000000</td>\n",
       "      <td>2030.000000</td>\n",
       "      <td>2030.000000</td>\n",
       "    </tr>\n",
       "    <tr>\n",
       "      <th>mean</th>\n",
       "      <td>0.501048</td>\n",
       "      <td>2020.0</td>\n",
       "      <td>0.219931</td>\n",
       "      <td>0.692904</td>\n",
       "      <td>193728.397537</td>\n",
       "      <td>0.631232</td>\n",
       "      <td>0.495567</td>\n",
       "      <td>0.016376</td>\n",
       "      <td>5.314286</td>\n",
       "      <td>0.178535</td>\n",
       "      <td>-6.595067</td>\n",
       "      <td>0.581281</td>\n",
       "      <td>64.301970</td>\n",
       "      <td>0.141384</td>\n",
       "      <td>124.283129</td>\n",
       "    </tr>\n",
       "    <tr>\n",
       "      <th>std</th>\n",
       "      <td>0.222656</td>\n",
       "      <td>0.0</td>\n",
       "      <td>0.240484</td>\n",
       "      <td>0.147439</td>\n",
       "      <td>46758.661550</td>\n",
       "      <td>0.163255</td>\n",
       "      <td>0.500104</td>\n",
       "      <td>0.102608</td>\n",
       "      <td>3.647307</td>\n",
       "      <td>0.137607</td>\n",
       "      <td>3.035709</td>\n",
       "      <td>0.493471</td>\n",
       "      <td>22.107782</td>\n",
       "      <td>0.126730</td>\n",
       "      <td>29.953435</td>\n",
       "    </tr>\n",
       "    <tr>\n",
       "      <th>min</th>\n",
       "      <td>0.000000</td>\n",
       "      <td>2020.0</td>\n",
       "      <td>0.000002</td>\n",
       "      <td>0.000000</td>\n",
       "      <td>30579.000000</td>\n",
       "      <td>0.005120</td>\n",
       "      <td>0.000000</td>\n",
       "      <td>0.000000</td>\n",
       "      <td>0.000000</td>\n",
       "      <td>0.024200</td>\n",
       "      <td>-38.414000</td>\n",
       "      <td>0.000000</td>\n",
       "      <td>0.000000</td>\n",
       "      <td>0.000000</td>\n",
       "      <td>0.000000</td>\n",
       "    </tr>\n",
       "    <tr>\n",
       "      <th>25%</th>\n",
       "      <td>0.334000</td>\n",
       "      <td>2020.0</td>\n",
       "      <td>0.035800</td>\n",
       "      <td>0.599000</td>\n",
       "      <td>167442.000000</td>\n",
       "      <td>0.532000</td>\n",
       "      <td>0.000000</td>\n",
       "      <td>0.000000</td>\n",
       "      <td>2.000000</td>\n",
       "      <td>0.098800</td>\n",
       "      <td>-7.629250</td>\n",
       "      <td>0.000000</td>\n",
       "      <td>65.000000</td>\n",
       "      <td>0.047000</td>\n",
       "      <td>98.085250</td>\n",
       "    </tr>\n",
       "    <tr>\n",
       "      <th>50%</th>\n",
       "      <td>0.509000</td>\n",
       "      <td>2020.0</td>\n",
       "      <td>0.131000</td>\n",
       "      <td>0.716000</td>\n",
       "      <td>190588.000000</td>\n",
       "      <td>0.641000</td>\n",
       "      <td>0.000000</td>\n",
       "      <td>0.000000</td>\n",
       "      <td>5.000000</td>\n",
       "      <td>0.123000</td>\n",
       "      <td>-6.110000</td>\n",
       "      <td>1.000000</td>\n",
       "      <td>70.000000</td>\n",
       "      <td>0.086400</td>\n",
       "      <td>124.710500</td>\n",
       "    </tr>\n",
       "    <tr>\n",
       "      <th>75%</th>\n",
       "      <td>0.668750</td>\n",
       "      <td>2020.0</td>\n",
       "      <td>0.321000</td>\n",
       "      <td>0.799000</td>\n",
       "      <td>215993.000000</td>\n",
       "      <td>0.746000</td>\n",
       "      <td>1.000000</td>\n",
       "      <td>0.000018</td>\n",
       "      <td>8.000000</td>\n",
       "      <td>0.208000</td>\n",
       "      <td>-4.885500</td>\n",
       "      <td>1.000000</td>\n",
       "      <td>76.000000</td>\n",
       "      <td>0.207000</td>\n",
       "      <td>145.125500</td>\n",
       "    </tr>\n",
       "    <tr>\n",
       "      <th>max</th>\n",
       "      <td>0.976000</td>\n",
       "      <td>2020.0</td>\n",
       "      <td>0.994000</td>\n",
       "      <td>0.980000</td>\n",
       "      <td>646239.000000</td>\n",
       "      <td>1.000000</td>\n",
       "      <td>1.000000</td>\n",
       "      <td>0.963000</td>\n",
       "      <td>11.000000</td>\n",
       "      <td>0.953000</td>\n",
       "      <td>-0.836000</td>\n",
       "      <td>1.000000</td>\n",
       "      <td>100.000000</td>\n",
       "      <td>0.894000</td>\n",
       "      <td>205.895000</td>\n",
       "    </tr>\n",
       "  </tbody>\n",
       "</table>\n",
       "</div>"
      ],
      "text/plain": [
       "           valence    year  acousticness  danceability    duration_ms  \\\n",
       "count  2030.000000  2030.0   2030.000000   2030.000000    2030.000000   \n",
       "mean      0.501048  2020.0      0.219931      0.692904  193728.397537   \n",
       "std       0.222656     0.0      0.240484      0.147439   46758.661550   \n",
       "min       0.000000  2020.0      0.000002      0.000000   30579.000000   \n",
       "25%       0.334000  2020.0      0.035800      0.599000  167442.000000   \n",
       "50%       0.509000  2020.0      0.131000      0.716000  190588.000000   \n",
       "75%       0.668750  2020.0      0.321000      0.799000  215993.000000   \n",
       "max       0.976000  2020.0      0.994000      0.980000  646239.000000   \n",
       "\n",
       "            energy     explicit  instrumentalness          key     liveness  \\\n",
       "count  2030.000000  2030.000000       2030.000000  2030.000000  2030.000000   \n",
       "mean      0.631232     0.495567          0.016376     5.314286     0.178535   \n",
       "std       0.163255     0.500104          0.102608     3.647307     0.137607   \n",
       "min       0.005120     0.000000          0.000000     0.000000     0.024200   \n",
       "25%       0.532000     0.000000          0.000000     2.000000     0.098800   \n",
       "50%       0.641000     0.000000          0.000000     5.000000     0.123000   \n",
       "75%       0.746000     1.000000          0.000018     8.000000     0.208000   \n",
       "max       1.000000     1.000000          0.963000    11.000000     0.953000   \n",
       "\n",
       "          loudness         mode   popularity  speechiness        tempo  \n",
       "count  2030.000000  2030.000000  2030.000000  2030.000000  2030.000000  \n",
       "mean     -6.595067     0.581281    64.301970     0.141384   124.283129  \n",
       "std       3.035709     0.493471    22.107782     0.126730    29.953435  \n",
       "min     -38.414000     0.000000     0.000000     0.000000     0.000000  \n",
       "25%      -7.629250     0.000000    65.000000     0.047000    98.085250  \n",
       "50%      -6.110000     1.000000    70.000000     0.086400   124.710500  \n",
       "75%      -4.885500     1.000000    76.000000     0.207000   145.125500  \n",
       "max      -0.836000     1.000000   100.000000     0.894000   205.895000  "
      ]
     },
     "execution_count": 20,
     "metadata": {},
     "output_type": "execute_result"
    }
   ],
   "source": [
    "spotify_2020.describe() # Does a general summarization of the data for you. Note that strings are excluded from this view"
   ]
  },
  {
   "cell_type": "markdown",
   "metadata": {},
   "source": [
    "Note that release_date is an object and not datetime. We can fix this while reading in the CSV or after we've already read it in"
   ]
  },
  {
   "cell_type": "markdown",
   "metadata": {},
   "source": [
    "### After we've read it in"
   ]
  },
  {
   "cell_type": "code",
   "execution_count": 21,
   "metadata": {},
   "outputs": [],
   "source": [
    "import datetime # https://docs.python.org/3/library/datetime.html"
   ]
  },
  {
   "cell_type": "code",
   "execution_count": 22,
   "metadata": {},
   "outputs": [
    {
     "name": "stdout",
     "output_type": "stream",
     "text": [
      "0   2020-07-24\n",
      "1   2020-07-03\n",
      "2   2020-08-07\n",
      "3   2020-08-14\n",
      "4   2020-10-30\n",
      "Name: release_date, dtype: datetime64[ns] \n",
      "\n",
      "<class 'pandas.core.frame.DataFrame'>\n",
      "RangeIndex: 2030 entries, 0 to 2029\n",
      "Data columns (total 19 columns):\n",
      " #   Column            Non-Null Count  Dtype         \n",
      "---  ------            --------------  -----         \n",
      " 0   valence           2030 non-null   float64       \n",
      " 1   year              2030 non-null   int64         \n",
      " 2   acousticness      2030 non-null   float64       \n",
      " 3   artists           2030 non-null   object        \n",
      " 4   danceability      2030 non-null   float64       \n",
      " 5   duration_ms       2030 non-null   int64         \n",
      " 6   energy            2030 non-null   float64       \n",
      " 7   explicit          2030 non-null   int64         \n",
      " 8   id                2030 non-null   object        \n",
      " 9   instrumentalness  2030 non-null   float64       \n",
      " 10  key               2030 non-null   int64         \n",
      " 11  liveness          2030 non-null   float64       \n",
      " 12  loudness          2030 non-null   float64       \n",
      " 13  mode              2030 non-null   int64         \n",
      " 14  name              2030 non-null   object        \n",
      " 15  popularity        2030 non-null   int64         \n",
      " 16  release_date      2030 non-null   datetime64[ns]\n",
      " 17  speechiness       2030 non-null   float64       \n",
      " 18  tempo             2030 non-null   float64       \n",
      "dtypes: datetime64[ns](1), float64(9), int64(6), object(3)\n",
      "memory usage: 301.5+ KB\n",
      "None\n"
     ]
    }
   ],
   "source": [
    "spotify_2020['release_date'] = pd.to_datetime(spotify_2020['release_date'], format='%Y-%m-%d')\n",
    "\n",
    "print(spotify_2020['release_date'].head(), '\\n')\n",
    "print(spotify_2020.info())"
   ]
  },
  {
   "cell_type": "markdown",
   "metadata": {},
   "source": [
    "### While we're reading it in"
   ]
  },
  {
   "cell_type": "code",
   "execution_count": 23,
   "metadata": {},
   "outputs": [
    {
     "name": "stdout",
     "output_type": "stream",
     "text": [
      "0   2020-07-24\n",
      "1   2020-07-03\n",
      "2   2020-08-07\n",
      "3   2020-08-14\n",
      "4   2020-10-30\n",
      "Name: release_date, dtype: datetime64[ns] \n",
      "\n",
      "<class 'pandas.core.frame.DataFrame'>\n",
      "RangeIndex: 2030 entries, 0 to 2029\n",
      "Data columns (total 19 columns):\n",
      " #   Column            Non-Null Count  Dtype         \n",
      "---  ------            --------------  -----         \n",
      " 0   valence           2030 non-null   float64       \n",
      " 1   year              2030 non-null   int64         \n",
      " 2   acousticness      2030 non-null   float64       \n",
      " 3   artists           2030 non-null   object        \n",
      " 4   danceability      2030 non-null   float64       \n",
      " 5   duration_ms       2030 non-null   int64         \n",
      " 6   energy            2030 non-null   float64       \n",
      " 7   explicit          2030 non-null   int64         \n",
      " 8   id                2030 non-null   object        \n",
      " 9   instrumentalness  2030 non-null   float64       \n",
      " 10  key               2030 non-null   int64         \n",
      " 11  liveness          2030 non-null   float64       \n",
      " 12  loudness          2030 non-null   float64       \n",
      " 13  mode              2030 non-null   int64         \n",
      " 14  name              2030 non-null   object        \n",
      " 15  popularity        2030 non-null   int64         \n",
      " 16  release_date      2030 non-null   datetime64[ns]\n",
      " 17  speechiness       2030 non-null   float64       \n",
      " 18  tempo             2030 non-null   float64       \n",
      "dtypes: datetime64[ns](1), float64(9), int64(6), object(3)\n",
      "memory usage: 301.5+ KB\n",
      "None\n"
     ]
    }
   ],
   "source": [
    "spotify_2020 = pd.read_csv(\"Spotify_2020.csv\", parse_dates = ['release_date'])\n",
    "\n",
    "print(spotify_2020['release_date'].head(), '\\n')\n",
    "print(spotify_2020.info())"
   ]
  },
  {
   "cell_type": "markdown",
   "metadata": {},
   "source": [
    "Type in spotify_2020. and then hit tab. It will show you all the options you can use. \n",
    "\n",
    "Alternatively, you can go [straight to the documentation](https://pandas.pydata.org/pandas-docs/stable/reference/frame.html) to find all the functions available. Many of these you will never use, but it's helpful to understand what they do. "
   ]
  },
  {
   "cell_type": "code",
   "execution_count": 24,
   "metadata": {},
   "outputs": [
    {
     "name": "stdout",
     "output_type": "stream",
     "text": [
      "0   2020-07-24\n",
      "1   2020-07-03\n",
      "2   2020-08-07\n",
      "3   2020-08-14\n",
      "4   2020-10-30\n",
      "Name: release_date, dtype: datetime64[ns] \n",
      "\n",
      "<class 'pandas.core.frame.DataFrame'>\n",
      "RangeIndex: 2030 entries, 0 to 2029\n",
      "Data columns (total 19 columns):\n",
      " #   Column            Non-Null Count  Dtype         \n",
      "---  ------            --------------  -----         \n",
      " 0   valence           2030 non-null   float64       \n",
      " 1   year              2030 non-null   int64         \n",
      " 2   acousticness      2030 non-null   float64       \n",
      " 3   artists           2030 non-null   object        \n",
      " 4   danceability      2030 non-null   float64       \n",
      " 5   duration_ms       2030 non-null   int64         \n",
      " 6   energy            2030 non-null   float64       \n",
      " 7   explicit          2030 non-null   int64         \n",
      " 8   id                2030 non-null   object        \n",
      " 9   instrumentalness  2030 non-null   float64       \n",
      " 10  key               2030 non-null   int64         \n",
      " 11  liveness          2030 non-null   float64       \n",
      " 12  loudness          2030 non-null   float64       \n",
      " 13  mode              2030 non-null   int64         \n",
      " 14  name              2030 non-null   object        \n",
      " 15  popularity        2030 non-null   int64         \n",
      " 16  release_date      2030 non-null   datetime64[ns]\n",
      " 17  speechiness       2030 non-null   float64       \n",
      " 18  tempo             2030 non-null   float64       \n",
      "dtypes: datetime64[ns](1), float64(9), int64(6), object(3)\n",
      "memory usage: 301.5+ KB\n",
      "None\n"
     ]
    }
   ],
   "source": [
    "import datetime as dt\n",
    "from datetime import datetime\n",
    "\n",
    "custom_date_parser = lambda x: datetime.strptime(x, \"%Y-%m-%d\") # here you can define custom datetime formats\n",
    "\n",
    "spotify_2020 = pd.read_csv(\"Spotify_2020.csv\", parse_dates = ['release_date'], date_parser = custom_date_parser)\n",
    "\n",
    "print(spotify_2020['release_date'].head(), '\\n')\n",
    "print(spotify_2020.info())"
   ]
  },
  {
   "cell_type": "markdown",
   "metadata": {},
   "source": [
    "# Reading in Multiple Files"
   ]
  },
  {
   "cell_type": "markdown",
   "metadata": {},
   "source": [
    "## Least Efficient Way"
   ]
  },
  {
   "cell_type": "code",
   "execution_count": 25,
   "metadata": {},
   "outputs": [
    {
     "data": {
      "text/plain": [
       "['.ipynb_checkpoints',\n",
       " 'Intro To Pandas.ipynb',\n",
       " 'Spotify_2016.csv',\n",
       " 'Spotify_2017.csv',\n",
       " 'Spotify_2018.csv',\n",
       " 'Spotify_2019.csv',\n",
       " 'Spotify_2020.csv']"
      ]
     },
     "execution_count": 25,
     "metadata": {},
     "output_type": "execute_result"
    }
   ],
   "source": [
    "csv_file_list = os.listdir() # Use the os.listdir to see all files in the current directory\n",
    "\n",
    "csv_file_list"
   ]
  },
  {
   "cell_type": "markdown",
   "metadata": {},
   "source": [
    "As you can see, this is not a clean directory with only CSVs, so we will need to clean this up"
   ]
  },
  {
   "cell_type": "code",
   "execution_count": 26,
   "metadata": {},
   "outputs": [
    {
     "data": {
      "text/plain": [
       "['Spotify_2016.csv',\n",
       " 'Spotify_2017.csv',\n",
       " 'Spotify_2018.csv',\n",
       " 'Spotify_2019.csv',\n",
       " 'Spotify_2020.csv']"
      ]
     },
     "execution_count": 26,
     "metadata": {},
     "output_type": "execute_result"
    }
   ],
   "source": [
    "csv_file_list = csv_file_list[2:] # Only grab files with index value 1 - 6, not including 6\n",
    "\n",
    "csv_file_list"
   ]
  },
  {
   "cell_type": "code",
   "execution_count": 27,
   "metadata": {},
   "outputs": [
    {
     "data": {
      "text/html": [
       "<div>\n",
       "<style scoped>\n",
       "    .dataframe tbody tr th:only-of-type {\n",
       "        vertical-align: middle;\n",
       "    }\n",
       "\n",
       "    .dataframe tbody tr th {\n",
       "        vertical-align: top;\n",
       "    }\n",
       "\n",
       "    .dataframe thead th {\n",
       "        text-align: right;\n",
       "    }\n",
       "</style>\n",
       "<table border=\"1\" class=\"dataframe\">\n",
       "  <thead>\n",
       "    <tr style=\"text-align: right;\">\n",
       "      <th></th>\n",
       "      <th>valence</th>\n",
       "      <th>year</th>\n",
       "      <th>acousticness</th>\n",
       "      <th>artists</th>\n",
       "      <th>danceability</th>\n",
       "      <th>duration_ms</th>\n",
       "      <th>energy</th>\n",
       "      <th>explicit</th>\n",
       "      <th>id</th>\n",
       "      <th>instrumentalness</th>\n",
       "      <th>key</th>\n",
       "      <th>liveness</th>\n",
       "      <th>loudness</th>\n",
       "      <th>mode</th>\n",
       "      <th>name</th>\n",
       "      <th>popularity</th>\n",
       "      <th>release_date</th>\n",
       "      <th>speechiness</th>\n",
       "      <th>tempo</th>\n",
       "    </tr>\n",
       "  </thead>\n",
       "  <tbody>\n",
       "    <tr>\n",
       "      <th>0</th>\n",
       "      <td>0.225</td>\n",
       "      <td>2016</td>\n",
       "      <td>0.7010</td>\n",
       "      <td>['James Arthur']</td>\n",
       "      <td>0.311</td>\n",
       "      <td>208827</td>\n",
       "      <td>0.485</td>\n",
       "      <td>0</td>\n",
       "      <td>55Am8neGJkdj2ADaM3aw5H</td>\n",
       "      <td>0.000000</td>\n",
       "      <td>6</td>\n",
       "      <td>0.0726</td>\n",
       "      <td>-5.726</td>\n",
       "      <td>0</td>\n",
       "      <td>Train Wreck</td>\n",
       "      <td>88</td>\n",
       "      <td>2016-10-28</td>\n",
       "      <td>0.0365</td>\n",
       "      <td>77.355</td>\n",
       "    </tr>\n",
       "    <tr>\n",
       "      <th>1</th>\n",
       "      <td>0.291</td>\n",
       "      <td>2016</td>\n",
       "      <td>0.0689</td>\n",
       "      <td>['Post Malone']</td>\n",
       "      <td>0.556</td>\n",
       "      <td>223347</td>\n",
       "      <td>0.538</td>\n",
       "      <td>1</td>\n",
       "      <td>75ZvA4QfFiZvzhj2xkaWAh</td>\n",
       "      <td>0.000000</td>\n",
       "      <td>8</td>\n",
       "      <td>0.1960</td>\n",
       "      <td>-5.408</td>\n",
       "      <td>0</td>\n",
       "      <td>I Fall Apart</td>\n",
       "      <td>83</td>\n",
       "      <td>2016-12-09</td>\n",
       "      <td>0.0382</td>\n",
       "      <td>143.950</td>\n",
       "    </tr>\n",
       "    <tr>\n",
       "      <th>2</th>\n",
       "      <td>0.488</td>\n",
       "      <td>2016</td>\n",
       "      <td>0.2450</td>\n",
       "      <td>['Ricky Montgomery']</td>\n",
       "      <td>0.639</td>\n",
       "      <td>216880</td>\n",
       "      <td>0.526</td>\n",
       "      <td>0</td>\n",
       "      <td>0MF5QHFzTUM2dYm6J7Vngt</td>\n",
       "      <td>0.000024</td>\n",
       "      <td>0</td>\n",
       "      <td>0.2500</td>\n",
       "      <td>-6.697</td>\n",
       "      <td>1</td>\n",
       "      <td>Mr Loverman</td>\n",
       "      <td>82</td>\n",
       "      <td>2016-04-08</td>\n",
       "      <td>0.0256</td>\n",
       "      <td>130.033</td>\n",
       "    </tr>\n",
       "    <tr>\n",
       "      <th>3</th>\n",
       "      <td>0.494</td>\n",
       "      <td>2016</td>\n",
       "      <td>0.6950</td>\n",
       "      <td>['James Arthur']</td>\n",
       "      <td>0.358</td>\n",
       "      <td>211467</td>\n",
       "      <td>0.557</td>\n",
       "      <td>0</td>\n",
       "      <td>5uCax9HTNlzGybIStD3vDh</td>\n",
       "      <td>0.000000</td>\n",
       "      <td>10</td>\n",
       "      <td>0.0902</td>\n",
       "      <td>-7.398</td>\n",
       "      <td>1</td>\n",
       "      <td>Say You Won't Let Go</td>\n",
       "      <td>86</td>\n",
       "      <td>2016-10-28</td>\n",
       "      <td>0.0590</td>\n",
       "      <td>85.043</td>\n",
       "    </tr>\n",
       "    <tr>\n",
       "      <th>4</th>\n",
       "      <td>0.572</td>\n",
       "      <td>2016</td>\n",
       "      <td>0.1670</td>\n",
       "      <td>['Childish Gambino']</td>\n",
       "      <td>0.743</td>\n",
       "      <td>326933</td>\n",
       "      <td>0.347</td>\n",
       "      <td>1</td>\n",
       "      <td>0wXuerDYiBnERgIpbb3JBR</td>\n",
       "      <td>0.009510</td>\n",
       "      <td>1</td>\n",
       "      <td>0.1030</td>\n",
       "      <td>-11.174</td>\n",
       "      <td>1</td>\n",
       "      <td>Redbone</td>\n",
       "      <td>82</td>\n",
       "      <td>2016-12-02</td>\n",
       "      <td>0.1210</td>\n",
       "      <td>160.143</td>\n",
       "    </tr>\n",
       "  </tbody>\n",
       "</table>\n",
       "</div>"
      ],
      "text/plain": [
       "   valence  year  acousticness               artists  danceability  \\\n",
       "0    0.225  2016        0.7010      ['James Arthur']         0.311   \n",
       "1    0.291  2016        0.0689       ['Post Malone']         0.556   \n",
       "2    0.488  2016        0.2450  ['Ricky Montgomery']         0.639   \n",
       "3    0.494  2016        0.6950      ['James Arthur']         0.358   \n",
       "4    0.572  2016        0.1670  ['Childish Gambino']         0.743   \n",
       "\n",
       "   duration_ms  energy  explicit                      id  instrumentalness  \\\n",
       "0       208827   0.485         0  55Am8neGJkdj2ADaM3aw5H          0.000000   \n",
       "1       223347   0.538         1  75ZvA4QfFiZvzhj2xkaWAh          0.000000   \n",
       "2       216880   0.526         0  0MF5QHFzTUM2dYm6J7Vngt          0.000024   \n",
       "3       211467   0.557         0  5uCax9HTNlzGybIStD3vDh          0.000000   \n",
       "4       326933   0.347         1  0wXuerDYiBnERgIpbb3JBR          0.009510   \n",
       "\n",
       "   key  liveness  loudness  mode                  name  popularity  \\\n",
       "0    6    0.0726    -5.726     0           Train Wreck          88   \n",
       "1    8    0.1960    -5.408     0          I Fall Apart          83   \n",
       "2    0    0.2500    -6.697     1           Mr Loverman          82   \n",
       "3   10    0.0902    -7.398     1  Say You Won't Let Go          86   \n",
       "4    1    0.1030   -11.174     1               Redbone          82   \n",
       "\n",
       "  release_date  speechiness    tempo  \n",
       "0   2016-10-28       0.0365   77.355  \n",
       "1   2016-12-09       0.0382  143.950  \n",
       "2   2016-04-08       0.0256  130.033  \n",
       "3   2016-10-28       0.0590   85.043  \n",
       "4   2016-12-02       0.1210  160.143  "
      ]
     },
     "execution_count": 27,
     "metadata": {},
     "output_type": "execute_result"
    }
   ],
   "source": [
    "# Create an empty list to append the dataframes to\n",
    "list_of_dataframes = []\n",
    "\n",
    "# Looping - For each filename in the csv_file_list\n",
    "for filename in csv_file_list:\n",
    "    \n",
    "    # Apply the read_csv function to the filename, then append the file to the empty list\n",
    "    list_of_dataframes.append(pd.read_csv(filename, parse_dates = ['release_date']))\n",
    "\n",
    "# Concatenate all the CSVs together with the Concat function    \n",
    "spotify_dataset = pd.concat(list_of_dataframes)\n",
    "\n",
    "# View the head\n",
    "spotify_dataset.head()"
   ]
  },
  {
   "cell_type": "markdown",
   "metadata": {},
   "source": [
    "## More Efficient Way\n",
    "\n",
    "The glob module finds all the pathnames matching a specified pattern according to the rules used by the Unix shell, although results are returned in arbitrary order."
   ]
  },
  {
   "cell_type": "code",
   "execution_count": 28,
   "metadata": {},
   "outputs": [],
   "source": [
    "import glob"
   ]
  },
  {
   "cell_type": "code",
   "execution_count": 29,
   "metadata": {},
   "outputs": [
    {
     "data": {
      "text/plain": [
       "['Spotify_2016.csv',\n",
       " 'Spotify_2017.csv',\n",
       " 'Spotify_2018.csv',\n",
       " 'Spotify_2019.csv',\n",
       " 'Spotify_2020.csv']"
      ]
     },
     "execution_count": 29,
     "metadata": {},
     "output_type": "execute_result"
    }
   ],
   "source": [
    "glob.glob('*.csv') # Returns a list of all files ending in CSV"
   ]
  },
  {
   "cell_type": "markdown",
   "metadata": {},
   "source": [
    "Note the star at the beginning. That means Glob doesn't care what's at the beginning of the pattern, it only cares about finding the .csv pattern"
   ]
  },
  {
   "cell_type": "code",
   "execution_count": 30,
   "metadata": {},
   "outputs": [
    {
     "data": {
      "text/plain": [
       "['Spotify_2016.csv',\n",
       " 'Spotify_2017.csv',\n",
       " 'Spotify_2018.csv',\n",
       " 'Spotify_2019.csv',\n",
       " 'Spotify_2020.csv']"
      ]
     },
     "execution_count": 30,
     "metadata": {},
     "output_type": "execute_result"
    }
   ],
   "source": [
    "glob.glob('Spotify*') # Look for all files that contain Spotify in the name"
   ]
  },
  {
   "cell_type": "code",
   "execution_count": 31,
   "metadata": {},
   "outputs": [
    {
     "data": {
      "text/plain": [
       "['Spotify_2020.csv']"
      ]
     },
     "execution_count": 31,
     "metadata": {},
     "output_type": "execute_result"
    }
   ],
   "source": [
    "glob.glob('Spotify_202*.csv') # Matches all of the filenames which begin with “Spotify_202” and ends with ”.csv”"
   ]
  },
  {
   "cell_type": "markdown",
   "metadata": {},
   "source": [
    "## Most Efficient Way"
   ]
  },
  {
   "cell_type": "markdown",
   "metadata": {},
   "source": [
    "### For Loop"
   ]
  },
  {
   "cell_type": "code",
   "execution_count": 32,
   "metadata": {},
   "outputs": [
    {
     "data": {
      "text/plain": [
       "array([2016, 2017, 2018, 2019, 2020], dtype=int64)"
      ]
     },
     "execution_count": 32,
     "metadata": {},
     "output_type": "execute_result"
    }
   ],
   "source": [
    "# Create an empty list to append the dataframes to\n",
    "list_of_dataframes = []\n",
    "\n",
    "# Looping - For each filename in the csv_file_list\n",
    "for filename in glob.glob('Spotify*.csv'):\n",
    "    \n",
    "    # Apply the read_csv function to the filename, then append the file to the empty list\n",
    "    list_of_dataframes.append(pd.read_csv(filename, parse_dates = ['release_date']))\n",
    "\n",
    "# Concatenate all the CSVs together with the Concat function    \n",
    "spotify_2016_2020 = pd.concat(list_of_dataframes)\n",
    "\n",
    "# View the unique years in the dataframe\n",
    "spotify_2016_2020['year'].unique()"
   ]
  },
  {
   "cell_type": "markdown",
   "metadata": {},
   "source": [
    "### List Comprehension"
   ]
  },
  {
   "cell_type": "code",
   "execution_count": 33,
   "metadata": {},
   "outputs": [
    {
     "data": {
      "text/plain": [
       "array([2016, 2017, 2018, 2019, 2020], dtype=int64)"
      ]
     },
     "execution_count": 33,
     "metadata": {},
     "output_type": "execute_result"
    }
   ],
   "source": [
    "spotify_2016_2020 = pd.concat([pd.read_csv(filename, parse_dates = ['release_date']) for filename in glob.glob('Spotify*.csv')])\n",
    "\n",
    "spotify_2016_2020['year'].unique()"
   ]
  },
  {
   "cell_type": "markdown",
   "metadata": {},
   "source": [
    "### And Finally, Write Dataframe to CSV"
   ]
  },
  {
   "cell_type": "code",
   "execution_count": 35,
   "metadata": {},
   "outputs": [],
   "source": [
    "spotify_2016_2020.to_csv('Spotify_2016_2020.csv', index=False) # note that index = False must be added otherwise an index column will appear in the csv"
   ]
  },
  {
   "cell_type": "markdown",
   "metadata": {},
   "source": [
    "# Miscellaneous Pandas Functions"
   ]
  },
  {
   "cell_type": "markdown",
   "metadata": {},
   "source": [
    "## Filtering"
   ]
  },
  {
   "cell_type": "code",
   "execution_count": 36,
   "metadata": {},
   "outputs": [
    {
     "data": {
      "text/plain": [
       "array([2020], dtype=int64)"
      ]
     },
     "execution_count": 36,
     "metadata": {},
     "output_type": "execute_result"
    }
   ],
   "source": [
    "# Create new dataframe filtered to 2020 data only\n",
    "spotify_2020 = spotify_2016_2020.loc[spotify_2016_2020['year'] == 2020]\n",
    "spotify_2020['year'].unique()"
   ]
  },
  {
   "cell_type": "code",
   "execution_count": 37,
   "metadata": {},
   "outputs": [
    {
     "name": "stdout",
     "output_type": "stream",
     "text": [
      "[95 96 97 93 92 91 90 94]\n",
      "[0]\n"
     ]
    }
   ],
   "source": [
    "spotify_2020_popularity = spotify_2020.loc[(spotify_2020['popularity'] >= 90) & (spotify_2020['explicit'] == 0)]\n",
    "\n",
    "print(spotify_2020_popularity.popularity.unique())\n",
    "print(spotify_2020_popularity.explicit.unique())"
   ]
  },
  {
   "cell_type": "code",
   "execution_count": 38,
   "metadata": {},
   "outputs": [
    {
     "data": {
      "text/html": [
       "<div>\n",
       "<style scoped>\n",
       "    .dataframe tbody tr th:only-of-type {\n",
       "        vertical-align: middle;\n",
       "    }\n",
       "\n",
       "    .dataframe tbody tr th {\n",
       "        vertical-align: top;\n",
       "    }\n",
       "\n",
       "    .dataframe thead th {\n",
       "        text-align: right;\n",
       "    }\n",
       "</style>\n",
       "<table border=\"1\" class=\"dataframe\">\n",
       "  <thead>\n",
       "    <tr style=\"text-align: right;\">\n",
       "      <th></th>\n",
       "      <th>artists</th>\n",
       "      <th>name</th>\n",
       "    </tr>\n",
       "  </thead>\n",
       "  <tbody>\n",
       "    <tr>\n",
       "      <th>0</th>\n",
       "      <td>['Clairo']</td>\n",
       "      <td>Sofia</td>\n",
       "    </tr>\n",
       "    <tr>\n",
       "      <th>1</th>\n",
       "      <td>['Harry Styles']</td>\n",
       "      <td>Watermelon Sugar</td>\n",
       "    </tr>\n",
       "    <tr>\n",
       "      <th>7</th>\n",
       "      <td>['Lewis Capaldi']</td>\n",
       "      <td>Someone You Loved</td>\n",
       "    </tr>\n",
       "    <tr>\n",
       "      <th>20</th>\n",
       "      <td>['Topic', 'A7S']</td>\n",
       "      <td>Breaking Me</td>\n",
       "    </tr>\n",
       "    <tr>\n",
       "      <th>0</th>\n",
       "      <td>['24kGoldn', 'iann dior']</td>\n",
       "      <td>Mood (feat. iann dior)</td>\n",
       "    </tr>\n",
       "  </tbody>\n",
       "</table>\n",
       "</div>"
      ],
      "text/plain": [
       "                      artists                    name\n",
       "0                  ['Clairo']                   Sofia\n",
       "1            ['Harry Styles']        Watermelon Sugar\n",
       "7           ['Lewis Capaldi']       Someone You Loved\n",
       "20           ['Topic', 'A7S']             Breaking Me\n",
       "0   ['24kGoldn', 'iann dior']  Mood (feat. iann dior)"
      ]
     },
     "execution_count": 38,
     "metadata": {},
     "output_type": "execute_result"
    }
   ],
   "source": [
    "# Selecting a few columns with a condition\n",
    "spotify_2020_filtered = spotify_2016_2020.loc[(spotify_2016_2020['popularity'] >= 90), ['artists', 'name']]\n",
    "\n",
    "spotify_2020_filtered.head()"
   ]
  },
  {
   "cell_type": "markdown",
   "metadata": {},
   "source": [
    "## Group By"
   ]
  },
  {
   "cell_type": "code",
   "execution_count": 40,
   "metadata": {},
   "outputs": [
    {
     "data": {
      "text/plain": [
       "popularity\n",
       "0      61\n",
       "1      40\n",
       "2      26\n",
       "3      14\n",
       "4      11\n",
       "       ..\n",
       "95      4\n",
       "96      4\n",
       "97      1\n",
       "99      1\n",
       "100     1\n",
       "Name: id, Length: 92, dtype: int64"
      ]
     },
     "execution_count": 40,
     "metadata": {},
     "output_type": "execute_result"
    }
   ],
   "source": [
    "# Group by popularity, count number of song IDs per popularity ranking\n",
    "spotify_2020.groupby('popularity')['id'].count()"
   ]
  },
  {
   "cell_type": "code",
   "execution_count": 42,
   "metadata": {},
   "outputs": [
    {
     "data": {
      "text/plain": [
       "artists\n",
       "['Future', 'Lil Uzi Vert']                75\n",
       "['YoungBoy Never Broke Again']            32\n",
       "['J Balvin']                              26\n",
       "['NAV']                                   25\n",
       "['BTS']                                   24\n",
       "                                          ..\n",
       "['King Von', 'Polo G']                     1\n",
       "['King Von', 'Moneybagg Yo']               1\n",
       "['Sturgill Simpson']                       1\n",
       "['King Von', 'Lil Durk', 'Prince Dre']     1\n",
       "['Ólafur Arnalds']                         1\n",
       "Name: artists, Length: 1065, dtype: int64"
      ]
     },
     "execution_count": 42,
     "metadata": {},
     "output_type": "execute_result"
    }
   ],
   "source": [
    "# Grouping by Artists, Counting the number of times they appear\n",
    "artists_2020 = spotify_2020.groupby('artists').artists.count()\n",
    "artists_2020.sort_values(ascending = False)"
   ]
  },
  {
   "cell_type": "code",
   "execution_count": 48,
   "metadata": {},
   "outputs": [
    {
     "data": {
      "text/html": [
       "<div>\n",
       "<style scoped>\n",
       "    .dataframe tbody tr th:only-of-type {\n",
       "        vertical-align: middle;\n",
       "    }\n",
       "\n",
       "    .dataframe tbody tr th {\n",
       "        vertical-align: top;\n",
       "    }\n",
       "\n",
       "    .dataframe thead tr th {\n",
       "        text-align: left;\n",
       "    }\n",
       "</style>\n",
       "<table border=\"1\" class=\"dataframe\">\n",
       "  <thead>\n",
       "    <tr>\n",
       "      <th></th>\n",
       "      <th>artists</th>\n",
       "      <th colspan=\"2\" halign=\"left\">[\"Olivia O'Brien\"]</th>\n",
       "      <th>[\"Why Don't We\"]</th>\n",
       "      <th>['$NOT', 'Flo Milli']</th>\n",
       "      <th>['$NOT', 'Maggie Lindemann']</th>\n",
       "      <th>['$NOT', 'Night Lovell']</th>\n",
       "      <th>['$NOT', 'Wifisfuneral']</th>\n",
       "      <th>['$NOT', 'iann dior']</th>\n",
       "      <th colspan=\"2\" halign=\"left\">['$NOT']</th>\n",
       "      <th>...</th>\n",
       "      <th>['mike.']</th>\n",
       "      <th colspan=\"3\" halign=\"left\">['niko-qée']</th>\n",
       "      <th colspan=\"3\" halign=\"left\">['ppcocaine']</th>\n",
       "      <th>['salem ilese']</th>\n",
       "      <th>['twocolors']</th>\n",
       "      <th>['Ólafur Arnalds']</th>\n",
       "    </tr>\n",
       "    <tr>\n",
       "      <th></th>\n",
       "      <th>name</th>\n",
       "      <th>Josslyn</th>\n",
       "      <th>NOW</th>\n",
       "      <th>Fallin’ (Adrenaline)</th>\n",
       "      <th>Mean</th>\n",
       "      <th>Moon &amp; Stars (feat. Maggie Lindemann)</th>\n",
       "      <th>Human (feat. Night Lovell)</th>\n",
       "      <th>BERETTA (feat. Wifisfuneral)</th>\n",
       "      <th>Like Me (feat. iann dior)</th>\n",
       "      <th>GOSHA</th>\n",
       "      <th>Revenge</th>\n",
       "      <th>...</th>\n",
       "      <th>2 birds</th>\n",
       "      <th>Finest</th>\n",
       "      <th>Like a Rose</th>\n",
       "      <th>No sleep at all</th>\n",
       "      <th>DDLG</th>\n",
       "      <th>Hugh Hefner</th>\n",
       "      <th>PJ</th>\n",
       "      <th>Mad at Disney</th>\n",
       "      <th>Lovefool</th>\n",
       "      <th>We Contain Multitudes (from home)</th>\n",
       "    </tr>\n",
       "  </thead>\n",
       "  <tbody>\n",
       "    <tr>\n",
       "      <th rowspan=\"2\" valign=\"top\">popularity</th>\n",
       "      <th>min</th>\n",
       "      <td>77</td>\n",
       "      <td>68</td>\n",
       "      <td>81</td>\n",
       "      <td>65</td>\n",
       "      <td>76</td>\n",
       "      <td>67</td>\n",
       "      <td>69</td>\n",
       "      <td>70</td>\n",
       "      <td>78</td>\n",
       "      <td>70</td>\n",
       "      <td>...</td>\n",
       "      <td>66</td>\n",
       "      <td>0</td>\n",
       "      <td>0</td>\n",
       "      <td>0</td>\n",
       "      <td>65</td>\n",
       "      <td>67</td>\n",
       "      <td>68</td>\n",
       "      <td>88</td>\n",
       "      <td>84</td>\n",
       "      <td>70</td>\n",
       "    </tr>\n",
       "    <tr>\n",
       "      <th>max</th>\n",
       "      <td>77</td>\n",
       "      <td>68</td>\n",
       "      <td>81</td>\n",
       "      <td>71</td>\n",
       "      <td>76</td>\n",
       "      <td>67</td>\n",
       "      <td>69</td>\n",
       "      <td>70</td>\n",
       "      <td>78</td>\n",
       "      <td>70</td>\n",
       "      <td>...</td>\n",
       "      <td>66</td>\n",
       "      <td>0</td>\n",
       "      <td>0</td>\n",
       "      <td>0</td>\n",
       "      <td>65</td>\n",
       "      <td>67</td>\n",
       "      <td>68</td>\n",
       "      <td>88</td>\n",
       "      <td>84</td>\n",
       "      <td>70</td>\n",
       "    </tr>\n",
       "  </tbody>\n",
       "</table>\n",
       "<p>2 rows × 1735 columns</p>\n",
       "</div>"
      ],
      "text/plain": [
       "artists        [\"Olivia O'Brien\"]         [\"Why Don't We\"]  \\\n",
       "name                      Josslyn NOW Fallin’ (Adrenaline)   \n",
       "popularity min                 77  68                   81   \n",
       "           max                 77  68                   81   \n",
       "\n",
       "artists        ['$NOT', 'Flo Milli']          ['$NOT', 'Maggie Lindemann']  \\\n",
       "name                            Mean Moon & Stars (feat. Maggie Lindemann)   \n",
       "popularity min                    65                                    76   \n",
       "           max                    71                                    76   \n",
       "\n",
       "artists          ['$NOT', 'Night Lovell']     ['$NOT', 'Wifisfuneral']  \\\n",
       "name           Human (feat. Night Lovell) BERETTA (feat. Wifisfuneral)   \n",
       "popularity min                         67                           69   \n",
       "           max                         67                           69   \n",
       "\n",
       "artists            ['$NOT', 'iann dior'] ['$NOT']          ... ['mike.']  \\\n",
       "name           Like Me (feat. iann dior)    GOSHA Revenge  ...   2 birds   \n",
       "popularity min                        70       78      70  ...        66   \n",
       "           max                        70       78      70  ...        66   \n",
       "\n",
       "artists        ['niko-qée']                             ['ppcocaine']  \\\n",
       "name                 Finest Like a Rose No sleep at all          DDLG   \n",
       "popularity min            0           0               0            65   \n",
       "           max            0           0               0            65   \n",
       "\n",
       "artists                        ['salem ilese'] ['twocolors']  \\\n",
       "name           Hugh Hefner  PJ   Mad at Disney      Lovefool   \n",
       "popularity min          67  68              88            84   \n",
       "           max          67  68              88            84   \n",
       "\n",
       "artists                       ['Ólafur Arnalds']  \n",
       "name           We Contain Multitudes (from home)  \n",
       "popularity min                                70  \n",
       "           max                                70  \n",
       "\n",
       "[2 rows x 1735 columns]"
      ]
     },
     "execution_count": 48,
     "metadata": {},
     "output_type": "execute_result"
    }
   ],
   "source": [
    "# Group by artists, use agg function to count the number of times they appear, get max and min popularity\n",
    "artists_2020 = spotify_2020.groupby(['artists', 'name']).agg({'popularity': ['min', 'max']})\n",
    "artists_2020.T"
   ]
  },
  {
   "cell_type": "markdown",
   "metadata": {},
   "source": [
    "## Creating New Columns"
   ]
  },
  {
   "cell_type": "code",
   "execution_count": 44,
   "metadata": {},
   "outputs": [
    {
     "data": {
      "text/html": [
       "<div>\n",
       "<style scoped>\n",
       "    .dataframe tbody tr th:only-of-type {\n",
       "        vertical-align: middle;\n",
       "    }\n",
       "\n",
       "    .dataframe tbody tr th {\n",
       "        vertical-align: top;\n",
       "    }\n",
       "\n",
       "    .dataframe thead th {\n",
       "        text-align: right;\n",
       "    }\n",
       "</style>\n",
       "<table border=\"1\" class=\"dataframe\">\n",
       "  <thead>\n",
       "    <tr style=\"text-align: right;\">\n",
       "      <th></th>\n",
       "      <th>valence</th>\n",
       "      <th>year</th>\n",
       "      <th>acousticness</th>\n",
       "      <th>artists</th>\n",
       "      <th>danceability</th>\n",
       "      <th>duration_ms</th>\n",
       "      <th>energy</th>\n",
       "      <th>explicit</th>\n",
       "      <th>id</th>\n",
       "      <th>instrumentalness</th>\n",
       "      <th>...</th>\n",
       "      <th>liveness</th>\n",
       "      <th>loudness</th>\n",
       "      <th>mode</th>\n",
       "      <th>name</th>\n",
       "      <th>popularity</th>\n",
       "      <th>release_date</th>\n",
       "      <th>speechiness</th>\n",
       "      <th>tempo</th>\n",
       "      <th>minutes</th>\n",
       "      <th>weekday</th>\n",
       "    </tr>\n",
       "  </thead>\n",
       "  <tbody>\n",
       "    <tr>\n",
       "      <th>0</th>\n",
       "      <td>0.756</td>\n",
       "      <td>2020</td>\n",
       "      <td>0.2210</td>\n",
       "      <td>['24kGoldn', 'iann dior']</td>\n",
       "      <td>0.700</td>\n",
       "      <td>140526</td>\n",
       "      <td>0.722</td>\n",
       "      <td>1</td>\n",
       "      <td>3tjFYV6RSFtuktYl3ZtYcq</td>\n",
       "      <td>0.000000</td>\n",
       "      <td>...</td>\n",
       "      <td>0.2720</td>\n",
       "      <td>-3.558</td>\n",
       "      <td>0</td>\n",
       "      <td>Mood (feat. iann dior)</td>\n",
       "      <td>99</td>\n",
       "      <td>2020-07-24</td>\n",
       "      <td>0.0369</td>\n",
       "      <td>90.989</td>\n",
       "      <td>2.342100</td>\n",
       "      <td>Friday</td>\n",
       "    </tr>\n",
       "    <tr>\n",
       "      <th>1</th>\n",
       "      <td>0.347</td>\n",
       "      <td>2020</td>\n",
       "      <td>0.1140</td>\n",
       "      <td>['Pop Smoke', 'Lil Baby', 'DaBaby']</td>\n",
       "      <td>0.823</td>\n",
       "      <td>190476</td>\n",
       "      <td>0.586</td>\n",
       "      <td>1</td>\n",
       "      <td>0PvFJmanyNQMseIFrU708S</td>\n",
       "      <td>0.000000</td>\n",
       "      <td>...</td>\n",
       "      <td>0.1930</td>\n",
       "      <td>-6.606</td>\n",
       "      <td>0</td>\n",
       "      <td>For The Night (feat. Lil Baby &amp; DaBaby)</td>\n",
       "      <td>95</td>\n",
       "      <td>2020-07-03</td>\n",
       "      <td>0.2000</td>\n",
       "      <td>125.971</td>\n",
       "      <td>3.174600</td>\n",
       "      <td>Friday</td>\n",
       "    </tr>\n",
       "    <tr>\n",
       "      <th>2</th>\n",
       "      <td>0.357</td>\n",
       "      <td>2020</td>\n",
       "      <td>0.0194</td>\n",
       "      <td>['Cardi B', 'Megan Thee Stallion']</td>\n",
       "      <td>0.935</td>\n",
       "      <td>187541</td>\n",
       "      <td>0.454</td>\n",
       "      <td>1</td>\n",
       "      <td>4Oun2ylbjFKMPTiaSbbCih</td>\n",
       "      <td>0.000000</td>\n",
       "      <td>...</td>\n",
       "      <td>0.0824</td>\n",
       "      <td>-7.509</td>\n",
       "      <td>1</td>\n",
       "      <td>WAP (feat. Megan Thee Stallion)</td>\n",
       "      <td>96</td>\n",
       "      <td>2020-08-07</td>\n",
       "      <td>0.3750</td>\n",
       "      <td>133.073</td>\n",
       "      <td>3.125683</td>\n",
       "      <td>Friday</td>\n",
       "    </tr>\n",
       "    <tr>\n",
       "      <th>3</th>\n",
       "      <td>0.522</td>\n",
       "      <td>2020</td>\n",
       "      <td>0.2440</td>\n",
       "      <td>['Drake', 'Lil Durk']</td>\n",
       "      <td>0.761</td>\n",
       "      <td>261493</td>\n",
       "      <td>0.518</td>\n",
       "      <td>1</td>\n",
       "      <td>2SAqBLGA283SUiwJ3xOUVI</td>\n",
       "      <td>0.000035</td>\n",
       "      <td>...</td>\n",
       "      <td>0.1070</td>\n",
       "      <td>-8.871</td>\n",
       "      <td>1</td>\n",
       "      <td>Laugh Now Cry Later (feat. Lil Durk)</td>\n",
       "      <td>93</td>\n",
       "      <td>2020-08-14</td>\n",
       "      <td>0.1340</td>\n",
       "      <td>133.976</td>\n",
       "      <td>4.358217</td>\n",
       "      <td>Friday</td>\n",
       "    </tr>\n",
       "    <tr>\n",
       "      <th>4</th>\n",
       "      <td>0.682</td>\n",
       "      <td>2020</td>\n",
       "      <td>0.4680</td>\n",
       "      <td>['Ariana Grande']</td>\n",
       "      <td>0.737</td>\n",
       "      <td>172325</td>\n",
       "      <td>0.802</td>\n",
       "      <td>1</td>\n",
       "      <td>35mvY5S1H3J2QZyna3TFe0</td>\n",
       "      <td>0.000000</td>\n",
       "      <td>...</td>\n",
       "      <td>0.0931</td>\n",
       "      <td>-4.771</td>\n",
       "      <td>1</td>\n",
       "      <td>positions</td>\n",
       "      <td>96</td>\n",
       "      <td>2020-10-30</td>\n",
       "      <td>0.0878</td>\n",
       "      <td>144.015</td>\n",
       "      <td>2.872083</td>\n",
       "      <td>Friday</td>\n",
       "    </tr>\n",
       "  </tbody>\n",
       "</table>\n",
       "<p>5 rows × 21 columns</p>\n",
       "</div>"
      ],
      "text/plain": [
       "   valence  year  acousticness                              artists  \\\n",
       "0    0.756  2020        0.2210            ['24kGoldn', 'iann dior']   \n",
       "1    0.347  2020        0.1140  ['Pop Smoke', 'Lil Baby', 'DaBaby']   \n",
       "2    0.357  2020        0.0194   ['Cardi B', 'Megan Thee Stallion']   \n",
       "3    0.522  2020        0.2440                ['Drake', 'Lil Durk']   \n",
       "4    0.682  2020        0.4680                    ['Ariana Grande']   \n",
       "\n",
       "   danceability  duration_ms  energy  explicit                      id  \\\n",
       "0         0.700       140526   0.722         1  3tjFYV6RSFtuktYl3ZtYcq   \n",
       "1         0.823       190476   0.586         1  0PvFJmanyNQMseIFrU708S   \n",
       "2         0.935       187541   0.454         1  4Oun2ylbjFKMPTiaSbbCih   \n",
       "3         0.761       261493   0.518         1  2SAqBLGA283SUiwJ3xOUVI   \n",
       "4         0.737       172325   0.802         1  35mvY5S1H3J2QZyna3TFe0   \n",
       "\n",
       "   instrumentalness  ...  liveness  loudness  mode  \\\n",
       "0          0.000000  ...    0.2720    -3.558     0   \n",
       "1          0.000000  ...    0.1930    -6.606     0   \n",
       "2          0.000000  ...    0.0824    -7.509     1   \n",
       "3          0.000035  ...    0.1070    -8.871     1   \n",
       "4          0.000000  ...    0.0931    -4.771     1   \n",
       "\n",
       "                                      name popularity  release_date  \\\n",
       "0                   Mood (feat. iann dior)         99    2020-07-24   \n",
       "1  For The Night (feat. Lil Baby & DaBaby)         95    2020-07-03   \n",
       "2          WAP (feat. Megan Thee Stallion)         96    2020-08-07   \n",
       "3     Laugh Now Cry Later (feat. Lil Durk)         93    2020-08-14   \n",
       "4                                positions         96    2020-10-30   \n",
       "\n",
       "  speechiness    tempo   minutes  weekday  \n",
       "0      0.0369   90.989  2.342100   Friday  \n",
       "1      0.2000  125.971  3.174600   Friday  \n",
       "2      0.3750  133.073  3.125683   Friday  \n",
       "3      0.1340  133.976  4.358217   Friday  \n",
       "4      0.0878  144.015  2.872083   Friday  \n",
       "\n",
       "[5 rows x 21 columns]"
      ]
     },
     "execution_count": 44,
     "metadata": {},
     "output_type": "execute_result"
    }
   ],
   "source": [
    "# Create a new column for minutes\n",
    "spotify_2020['minutes'] = spotify_2020['duration_ms'] / 60000\n",
    "\n",
    "# Create a new column for day of week for release date\n",
    "spotify_2020['weekday'] = spotify_2020['release_date'].dt.day_name()\n",
    "\n",
    "spotify_2020.head()"
   ]
  },
  {
   "cell_type": "code",
   "execution_count": null,
   "metadata": {},
   "outputs": [],
   "source": []
  }
 ],
 "metadata": {
  "kernelspec": {
   "display_name": "Python 3",
   "language": "python",
   "name": "python3"
  },
  "language_info": {
   "codemirror_mode": {
    "name": "ipython",
    "version": 3
   },
   "file_extension": ".py",
   "mimetype": "text/x-python",
   "name": "python",
   "nbconvert_exporter": "python",
   "pygments_lexer": "ipython3",
   "version": "3.7.6"
  },
  "toc-autonumbering": true
 },
 "nbformat": 4,
 "nbformat_minor": 4
}
