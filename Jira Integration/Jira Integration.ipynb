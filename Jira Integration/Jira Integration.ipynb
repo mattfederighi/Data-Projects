{
 "cells": [
  {
   "cell_type": "markdown",
   "id": "french-universe",
   "metadata": {},
   "source": [
    "# Import Libraries"
   ]
  },
  {
   "cell_type": "code",
   "execution_count": null,
   "id": "similar-prague",
   "metadata": {},
   "outputs": [],
   "source": [
    "import requests\n",
    "import json\n",
    "import pandas as pd\n",
    "import datetime"
   ]
  },
  {
   "cell_type": "markdown",
   "id": "forced-sandwich",
   "metadata": {},
   "source": [
    "# Auth Credentials, Get Total Pages"
   ]
  },
  {
   "cell_type": "code",
   "execution_count": null,
   "id": "printable-narrative",
   "metadata": {},
   "outputs": [],
   "source": [
    "# Auth credentials\n",
    "auth = ('username', 'api_key')\n",
    "\n",
    "# Initial call to get total issues number\n",
    "response = requests.get('https://mysite.atlassian.net/rest/api/2/search?jql=project=\"JIRA\"&startAt=50&maxResults=1', auth = auth)\n",
    "\n",
    "# Final offset number\n",
    "total_pages = json.loads(response.text)['total']"
   ]
  },
  {
   "cell_type": "markdown",
   "id": "pretty-latino",
   "metadata": {},
   "source": [
    "# Get Jira Data"
   ]
  },
  {
   "cell_type": "code",
   "execution_count": null,
   "id": "original-channels",
   "metadata": {},
   "outputs": [],
   "source": [
    "'''Paginate to get all data, convert from JSON to Dataframe, flatten the JSON columns'''\n",
    "# Empty Dataframe to Append to\n",
    "issues_df = pd.DataFrame()\n",
    "\n",
    "# Start off by defining the offset at 0 \n",
    "start_at = 0\n",
    "\n",
    "# While offset is < final_offset, run this loop\n",
    "while start_at < total_pages:\n",
    "    \n",
    "    # Take the offset from above and tag it onto the end of this url, converting the data to a JSON\n",
    "    issues = requests.get(f'https://mysite.atlassian.net/rest/api/2/search?jql=project=\"JIRA\"&startAt={start_at}&maxResults=100', auth = auth)\n",
    "\n",
    "    # Convert to JSON\n",
    "    issues = json.loads(issues.text)\n",
    "    \n",
    "    # Convert to pandas dataframe\n",
    "    issues = pd.json_normalize(issues['issues'])\n",
    "    \n",
    "    # Append dataframe to Master DF\n",
    "    issues_df = issues_df.append(issues)\n",
    "    \n",
    "    # Add 50 to the start_at value\n",
    "    start_at += 100"
   ]
  },
  {
   "cell_type": "markdown",
   "id": "english-jesus",
   "metadata": {},
   "source": [
    "# Data Cleansing"
   ]
  },
  {
   "cell_type": "code",
   "execution_count": null,
   "id": "administrative-vacuum",
   "metadata": {},
   "outputs": [],
   "source": [
    "''' Remove all Subtasks '''\n",
    "# Filter out rows by column value\n",
    "issues_clean = issues_df.loc[issues_df['IsSubtask'] == False]"
   ]
  },
  {
   "cell_type": "code",
   "execution_count": null,
   "id": "amended-technical",
   "metadata": {},
   "outputs": [],
   "source": [
    "''' Select Columns '''\n",
    "# Define the list of columns we want\n",
    "column_list = ['Assignee', 'ResolutionDate', 'Status', 'StoryPointEstimate', 'StoryPointActual', 'Requestor', 'StartDate',\n",
    "               'Components', 'IssueType', 'Summary', 'CreateDate', 'EpicLink', 'Priority', 'IssueKey', 'DueDate'\n",
    "              ]\n",
    "\n",
    "# Create a new dataframe with only columns from defined list\n",
    "issues_clean = issues_clean[issues_clean.columns.intersection(column_list)]"
   ]
  },
  {
   "cell_type": "code",
   "execution_count": null,
   "id": "historic-logistics",
   "metadata": {},
   "outputs": [],
   "source": [
    "''' Convert to Datetime '''\n",
    "# Create list of columns to convert to dates\n",
    "date_columns = ['StartDate', 'DueDate', 'CreateDate']\n",
    "\n",
    "# Loop through each column in the list\n",
    "for date in date_columns:\n",
    "    \n",
    "    # Apply datetime function to column\n",
    "    issues_clean[date] = pd.to_datetime(issues_clean[date], format='%Y-%m-%d', errors='ignore')"
   ]
  },
  {
   "cell_type": "code",
   "execution_count": null,
   "id": "comic-market",
   "metadata": {},
   "outputs": [],
   "source": [
    "''' Remove newlines '''\n",
    "issues_clean['Description'] = issues_clean['Description'].replace(r'\\n', ' ', regex = True)"
   ]
  }
 ],
 "metadata": {
  "kernelspec": {
   "display_name": "Python 3",
   "language": "python",
   "name": "python3"
  },
  "language_info": {
   "codemirror_mode": {
    "name": "ipython",
    "version": 3
   },
   "file_extension": ".py",
   "mimetype": "text/x-python",
   "name": "python",
   "nbconvert_exporter": "python",
   "pygments_lexer": "ipython3",
   "version": "3.7.9"
  }
 },
 "nbformat": 4,
 "nbformat_minor": 5
}
