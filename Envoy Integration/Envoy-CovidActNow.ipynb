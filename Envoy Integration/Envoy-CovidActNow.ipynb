{
 "cells": [
  {
   "cell_type": "markdown",
   "id": "academic-animation",
   "metadata": {},
   "source": [
    "# Import Packages"
   ]
  },
  {
   "cell_type": "code",
   "execution_count": 147,
   "id": "persistent-afternoon",
   "metadata": {},
   "outputs": [],
   "source": [
    "import pandas as pd\n",
    "import requests\n",
    "import io\n",
    "import json\n",
    "import time\n",
    "from oauthlib.oauth2 import LegacyApplicationClient\n",
    "from requests_oauthlib import OAuth2Session\n",
    "import regex as re"
   ]
  },
  {
   "cell_type": "markdown",
   "id": "early-benjamin",
   "metadata": {},
   "source": [
    "# Location Entries - Envoy API"
   ]
  },
  {
   "cell_type": "code",
   "execution_count": null,
   "id": "smoking-chosen",
   "metadata": {},
   "outputs": [],
   "source": [
    "# Apply Login info\n",
    "oauth = OAuth2Session(client = LegacyApplicationClient(client_id = client_id))\n",
    "token = oauth.fetch_token(token_url = token_url,\n",
    "                          username = username, \n",
    "                          password = password,\n",
    "                          client_id = client_id,\n",
    "                          client_secret = client_secret,\n",
    "                          scope = scope)"
   ]
  },
  {
   "cell_type": "code",
   "execution_count": null,
   "id": "cutting-masters",
   "metadata": {},
   "outputs": [],
   "source": [
    "# Create start and end dates to prevent pulling every piece of data\n",
    "today = date.today()\n",
    "yesterday = today - timedelta(days = 1)\n",
    "\n",
    "# Define the URL\n",
    "entries_url = f'https://app.envoy.com/a/visitors/api/v2/entries/?start_date={start_date}&end_date={end_date}'\n",
    "\n",
    "# Call the API to get the final offset number\n",
    "entries = oauth.get(entries_url).json()['meta']['total']\n",
    "\n",
    "# Empty Dataframe to Append to\n",
    "envoy_entries = pd.DataFrame()\n",
    "\n",
    "\n",
    "'''Paginate to get all data, convert from JSON to Dataframe, flatten the JSON columns'''\n",
    "# Start off by defining the offset at 0 \n",
    "offset = 0\n",
    "\n",
    "# While offset is < final_offset, run this loop\n",
    "while offset < final_offset:\n",
    "    \n",
    "    # Take the offset from above and tag it onto the end of this url, converting the data to a JSON\n",
    "    entries = oauth.get(f'{entries_url}&page[limit]=20&page[offset]={str(offset)}').json()\n",
    "\n",
    "    # Convert to JSON\n",
    "    entries_json = json.loads(entries.text)\n",
    "    \n",
    "    # Convert to pandas dataframe\n",
    "    entries_df = pd.json_normalize(entries_json['data'])\n",
    "\n",
    "    # Append dataframe to Master DF\n",
    "    envoy_entries = envoy_entries.append(entries_df)\n",
    "    \n",
    "    # Add 20 to the offset value\n",
    "    offset += 20"
   ]
  },
  {
   "cell_type": "markdown",
   "id": "conventional-shadow",
   "metadata": {},
   "source": [
    "# Location Data - Envoy API"
   ]
  },
  {
   "cell_type": "code",
   "execution_count": 148,
   "id": "unavailable-gates",
   "metadata": {},
   "outputs": [],
   "source": [
    "'''Grab the Locations information from the API'''\n",
    "# Note this is the same as above, just changes from the entries table to the locations table\n",
    "locations = oauth.get('https://app.envoy.com/a/visitors/api/v2/locations/')\n",
    "\n",
    "# Convert to JSON\n",
    "locations_json = json.loads(locations.text)\n",
    "\n",
    "# Convert to pandas dataframe\n",
    "locations_df = pd.json_normalize(locations_json['data'])"
   ]
  },
  {
   "cell_type": "markdown",
   "id": "another-movie",
   "metadata": {},
   "source": [
    "# Reverse Geocoding - USPS API"
   ]
  },
  {
   "cell_type": "code",
   "execution_count": 149,
   "id": "olympic-health",
   "metadata": {},
   "outputs": [],
   "source": [
    "# Define the headers\n",
    "headers = {'Authorization': \n",
    "           'Bearer API_KEY',\n",
    "          }\n",
    "\n",
    "# Create Empty list to append to \n",
    "fips_list = []\n",
    "\n",
    "# Loop through each zip code in the zip code column\n",
    "for zip_code in locations_df['Zip Code']:\n",
    "    \n",
    "    # Call the api, passing the zip code as an argument\n",
    "    response = requests.get(f'https://www.huduser.gov/hudapi/public/usps?type=2&query={zip_code}', headers=headers).json()\n",
    "    \n",
    "    # Append the geoid to the FIPS list\n",
    "    fips_list.append(response['data']['results'][0]['geoid'])\n",
    "    \n",
    "    # Sleep for 2 seconds\n",
    "    time.sleep(2)\n",
    "    \n",
    "# Create a dataframe from the two lists\n",
    "fips_zips = pd.DataFrame({'Zip Code': zip_codes,'FIPS': fips_list} )"
   ]
  },
  {
   "cell_type": "code",
   "execution_count": 150,
   "id": "suburban-washer",
   "metadata": {},
   "outputs": [],
   "source": [
    "# Join back with Office Zip Codes\n",
    "us_offices = locations_df.merge(fips_zips, left_on = 'Zip Code', right_on = 'Zip Code')\n",
    "\n",
    "# Drop the duplicate zip code column\n",
    "us_offices = us_offices.drop(['Zip Code'], axis=1)\n",
    "\n",
    "# Join office back to Entries\n",
    "envoy_entries = envoy_entries.merge(us_offices, left_on = 'Office ID', right_on = 'Office ID')\n",
    "\n",
    "# Drop the duplicate zip code column\n",
    "envoy_entries = envoy_entries.drop(['Office ID'], axis=1)"
   ]
  },
  {
   "cell_type": "markdown",
   "id": "charitable-thinking",
   "metadata": {},
   "source": [
    "# Covid Data - CovidActNow API"
   ]
  },
  {
   "cell_type": "code",
   "execution_count": 108,
   "id": "formed-cursor",
   "metadata": {},
   "outputs": [],
   "source": [
    "# Enter API Key to reference later\n",
    "api_key = 'API_KEY'\n",
    "\n",
    "# Generate empty dataframe\n",
    "covid_act_now = pd.DataFrame()\n",
    "\n",
    "# Initiate the for loop\n",
    "for fip in us_offices['FIPS']: \n",
    "    \n",
    "    # Call the API with requests\n",
    "    response = requests.get(f'https://api.covidactnow.org/v2/county/{fip}.json?apiKey={api_key}')\n",
    "\n",
    "    # Convert to JSON\n",
    "    covid_json = json.loads(response.text)\n",
    "\n",
    "    # Convert to Dataframe\n",
    "    covid_df = pd.json_normalize(covid_json)\n",
    "    \n",
    "    # Append to dataframe\n",
    "    covid_act_now = covid_act_now.append(covid_df)"
   ]
  },
  {
   "cell_type": "code",
   "execution_count": null,
   "id": "perceived-effect",
   "metadata": {},
   "outputs": [],
   "source": [
    "# Join office back to Entries\n",
    "envoy_entries = envoy_entries.merge(covid_act_now, left_on = 'Office ID', right_on = 'Office ID')\n",
    "\n",
    "# Drop the duplicate zip code column\n",
    "envoy_entries = envoy_entries.drop(['Office ID'], axis=1)"
   ]
  }
 ],
 "metadata": {
  "kernelspec": {
   "display_name": "Python 3",
   "language": "python",
   "name": "python3"
  },
  "language_info": {
   "codemirror_mode": {
    "name": "ipython",
    "version": 3
   },
   "file_extension": ".py",
   "mimetype": "text/x-python",
   "name": "python",
   "nbconvert_exporter": "python",
   "pygments_lexer": "ipython3",
   "version": "3.7.9"
  }
 },
 "nbformat": 4,
 "nbformat_minor": 5
}
